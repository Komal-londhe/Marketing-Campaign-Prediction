{
  "nbformat": 4,
  "nbformat_minor": 0,
  "metadata": {
    "colab": {
      "name": "Project_MarkettingCampaign.ipynb",
      "provenance": [],
      "collapsed_sections": [],
      "include_colab_link": true
    },
    "kernelspec": {
      "name": "python3",
      "display_name": "Python 3"
    },
    "language_info": {
      "name": "python"
    }
  },
  "cells": [
    {
      "cell_type": "markdown",
      "metadata": {
        "id": "view-in-github",
        "colab_type": "text"
      },
      "source": [
        "<a href=\"https://colab.research.google.com/github/Komal-londhe/Marketing-Campaign-Prediction/blob/main/Project_MarkettingCampaign.ipynb\" target=\"_parent\"><img src=\"https://colab.research.google.com/assets/colab-badge.svg\" alt=\"Open In Colab\"/></a>"
      ]
    },
    {
      "cell_type": "markdown",
      "source": [
        "# Business Problem"
      ],
      "metadata": {
        "id": "ZJALyqyXbgQj"
      }
    },
    {
      "cell_type": "markdown",
      "source": [
        "Companies develop marketing campaigns to increase their product sales.\n",
        "Marketing campaign prediction helps to identify how customers would respond to their future campaigns. Applied in various domains like Banking, Mobile Telecommunication, Life Insurances, Ecommerce websites.\n"
      ],
      "metadata": {
        "id": "RGsiG3A7aJRl"
      }
    },
    {
      "cell_type": "markdown",
      "source": [
        "Predicting customer response helps in \n",
        "- assisting marketers in understanding consumer behaviours and trends\n",
        "- predicting future shifts and planning their campaigns accordingly.\n",
        "- company can also internally study any possible operational causes and improve its product offerings.\n"
      ],
      "metadata": {
        "id": "YZlCBo_jaeSp"
      }
    },
    {
      "cell_type": "markdown",
      "source": [
        "# Project Aim"
      ],
      "metadata": {
        "id": "YJowzlLGauN_"
      }
    },
    {
      "cell_type": "markdown",
      "source": [
        "- To predict customer response\n",
        "- Highlighting key indicators responsible for customer response\n",
        "- Use ML algorithms to build prediction models, evaluate accuracy and performance of these models\n",
        "- Finding out the best model for our business problem"
      ],
      "metadata": {
        "id": "ru2HTKOaaxiQ"
      }
    },
    {
      "cell_type": "markdown",
      "source": [
        "# Data Loading"
      ],
      "metadata": {
        "id": "fylCEoi9aCOG"
      }
    },
    {
      "cell_type": "code",
      "source": [
        "# Importing Required libraries and modules \n",
        "\n",
        "import pandas as pd\n",
        "import numpy as np\n",
        "import seaborn as sns\n",
        "from matplotlib import pyplot as plt\n",
        "from sklearn.model_selection import train_test_split, RandomizedSearchCV\n",
        "from sklearn.linear_model import LogisticRegression\n",
        "from sklearn.ensemble import RandomForestClassifier, GradientBoostingClassifier, StackingClassifier\n",
        "from xgboost import XGBClassifier\n",
        "from sklearn.preprocessing import LabelEncoder\n",
        "from sklearn.metrics import accuracy_score, classification_report\n",
        "from imblearn.combine import SMOTETomek\n",
        "from sklearn.feature_selection import SelectFromModel\n",
        "from sklearn.decomposition import PCA\n",
        "import plotly.express as px\n",
        "import math\n",
        "from sklearn.metrics import f1_score, precision_score, recall_score, fbeta_score\n",
        "from sklearn.metrics import confusion_matrix, accuracy_score\n",
        "\n",
        "from sklearn.svm import SVC\n",
        "from sklearn.neighbors import KNeighborsClassifier\n",
        "from sklearn.naive_bayes import GaussianNB\n",
        "from sklearn.tree import DecisionTreeClassifier\n",
        "from sklearn.ensemble import RandomForestClassifier\n",
        "from sklearn.linear_model import LinearRegression"
      ],
      "metadata": {
        "id": "iBQvAP_slByH"
      },
      "execution_count": null,
      "outputs": []
    },
    {
      "cell_type": "code",
      "source": [
        "# Loading data using read_csv()\n",
        "dataset = pd.read_csv('marketing_campaign.csv')"
      ],
      "metadata": {
        "id": "XlBFU9XCcB90"
      },
      "execution_count": null,
      "outputs": []
    },
    {
      "cell_type": "code",
      "source": [
        "# Check with the data by default gives first 5 rows\n",
        "dataset.head()"
      ],
      "metadata": {
        "colab": {
          "base_uri": "https://localhost:8080/",
          "height": 226
        },
        "id": "zPgKfhW-cQ78",
        "outputId": "6e9d8171-631e-45a9-e88f-f4931ba6289e"
      },
      "execution_count": null,
      "outputs": [
        {
          "output_type": "execute_result",
          "data": {
            "text/html": [
              "<div>\n",
              "<style scoped>\n",
              "    .dataframe tbody tr th:only-of-type {\n",
              "        vertical-align: middle;\n",
              "    }\n",
              "\n",
              "    .dataframe tbody tr th {\n",
              "        vertical-align: top;\n",
              "    }\n",
              "\n",
              "    .dataframe thead th {\n",
              "        text-align: right;\n",
              "    }\n",
              "</style>\n",
              "<table border=\"1\" class=\"dataframe\">\n",
              "  <thead>\n",
              "    <tr style=\"text-align: right;\">\n",
              "      <th></th>\n",
              "      <th>ID;Year_Birth;Education;Marital_Status;Income;Kidhome;Teenhome;Dt_Customer;Recency;MntWines;MntFruits;MntMeatProducts;MntFishProducts;MntSweetProducts;MntGoldProds;NumDealsPurchases;NumWebPurchases;NumCatalogPurchases;NumStorePurchases;NumWebVisitsMonth;AcceptedCmp3;AcceptedCmp4;AcceptedCmp5;AcceptedCmp1;AcceptedCmp2;Complain;Z_CostContact;Z_Revenue;Response</th>\n",
              "    </tr>\n",
              "  </thead>\n",
              "  <tbody>\n",
              "    <tr>\n",
              "      <th>0</th>\n",
              "      <td>5524;1957;Graduation;Single;58138;0;0;2012-09-...</td>\n",
              "    </tr>\n",
              "    <tr>\n",
              "      <th>1</th>\n",
              "      <td>2174;1954;Graduation;Single;46344;1;1;2014-03-...</td>\n",
              "    </tr>\n",
              "    <tr>\n",
              "      <th>2</th>\n",
              "      <td>4141;1965;Graduation;Together;71613;0;0;2013-0...</td>\n",
              "    </tr>\n",
              "    <tr>\n",
              "      <th>3</th>\n",
              "      <td>6182;1984;Graduation;Together;26646;1;0;2014-0...</td>\n",
              "    </tr>\n",
              "    <tr>\n",
              "      <th>4</th>\n",
              "      <td>5324;1981;PhD;Married;58293;1;0;2014-01-19;94;...</td>\n",
              "    </tr>\n",
              "  </tbody>\n",
              "</table>\n",
              "</div>"
            ],
            "text/plain": [
              "  ID;Year_Birth;Education;Marital_Status;Income;Kidhome;Teenhome;Dt_Customer;Recency;MntWines;MntFruits;MntMeatProducts;MntFishProducts;MntSweetProducts;MntGoldProds;NumDealsPurchases;NumWebPurchases;NumCatalogPurchases;NumStorePurchases;NumWebVisitsMonth;AcceptedCmp3;AcceptedCmp4;AcceptedCmp5;AcceptedCmp1;AcceptedCmp2;Complain;Z_CostContact;Z_Revenue;Response\n",
              "0  5524;1957;Graduation;Single;58138;0;0;2012-09-...                                                                                                                                                                                                                                                                                                                      \n",
              "1  2174;1954;Graduation;Single;46344;1;1;2014-03-...                                                                                                                                                                                                                                                                                                                      \n",
              "2  4141;1965;Graduation;Together;71613;0;0;2013-0...                                                                                                                                                                                                                                                                                                                      \n",
              "3  6182;1984;Graduation;Together;26646;1;0;2014-0...                                                                                                                                                                                                                                                                                                                      \n",
              "4  5324;1981;PhD;Married;58293;1;0;2014-01-19;94;...                                                                                                                                                                                                                                                                                                                      "
            ]
          },
          "metadata": {},
          "execution_count": 3
        }
      ]
    },
    {
      "cell_type": "markdown",
      "source": [
        "The dataset we get from importing is unusable in it's current form. A single column captures all of our various variables and we'll need to clean it well if we want to continue with our analysis. We will load again by separating with ';'"
      ],
      "metadata": {
        "id": "uDKJOARXlgDG"
      }
    },
    {
      "cell_type": "code",
      "source": [
        "# using separator ';'\n",
        "dataset = pd.read_csv('marketing_campaign.csv', sep=';')"
      ],
      "metadata": {
        "id": "7xTTmi5RldPM"
      },
      "execution_count": null,
      "outputs": []
    },
    {
      "cell_type": "code",
      "source": [
        "dataset.head()"
      ],
      "metadata": {
        "colab": {
          "base_uri": "https://localhost:8080/",
          "height": 226
        },
        "id": "JfJrieOBldhk",
        "outputId": "0962fd30-501f-41f9-8608-b130bbd82cec"
      },
      "execution_count": null,
      "outputs": [
        {
          "output_type": "execute_result",
          "data": {
            "text/html": [
              "<div>\n",
              "<style scoped>\n",
              "    .dataframe tbody tr th:only-of-type {\n",
              "        vertical-align: middle;\n",
              "    }\n",
              "\n",
              "    .dataframe tbody tr th {\n",
              "        vertical-align: top;\n",
              "    }\n",
              "\n",
              "    .dataframe thead th {\n",
              "        text-align: right;\n",
              "    }\n",
              "</style>\n",
              "<table border=\"1\" class=\"dataframe\">\n",
              "  <thead>\n",
              "    <tr style=\"text-align: right;\">\n",
              "      <th></th>\n",
              "      <th>ID</th>\n",
              "      <th>Year_Birth</th>\n",
              "      <th>Education</th>\n",
              "      <th>Marital_Status</th>\n",
              "      <th>Income</th>\n",
              "      <th>Kidhome</th>\n",
              "      <th>Teenhome</th>\n",
              "      <th>Dt_Customer</th>\n",
              "      <th>Recency</th>\n",
              "      <th>MntWines</th>\n",
              "      <th>MntFruits</th>\n",
              "      <th>MntMeatProducts</th>\n",
              "      <th>MntFishProducts</th>\n",
              "      <th>MntSweetProducts</th>\n",
              "      <th>MntGoldProds</th>\n",
              "      <th>NumDealsPurchases</th>\n",
              "      <th>NumWebPurchases</th>\n",
              "      <th>NumCatalogPurchases</th>\n",
              "      <th>NumStorePurchases</th>\n",
              "      <th>NumWebVisitsMonth</th>\n",
              "      <th>AcceptedCmp3</th>\n",
              "      <th>AcceptedCmp4</th>\n",
              "      <th>AcceptedCmp5</th>\n",
              "      <th>AcceptedCmp1</th>\n",
              "      <th>AcceptedCmp2</th>\n",
              "      <th>Complain</th>\n",
              "      <th>Z_CostContact</th>\n",
              "      <th>Z_Revenue</th>\n",
              "      <th>Response</th>\n",
              "    </tr>\n",
              "  </thead>\n",
              "  <tbody>\n",
              "    <tr>\n",
              "      <th>0</th>\n",
              "      <td>5524</td>\n",
              "      <td>1957</td>\n",
              "      <td>Graduation</td>\n",
              "      <td>Single</td>\n",
              "      <td>58138.0</td>\n",
              "      <td>0</td>\n",
              "      <td>0</td>\n",
              "      <td>2012-09-04</td>\n",
              "      <td>58</td>\n",
              "      <td>635</td>\n",
              "      <td>88</td>\n",
              "      <td>546</td>\n",
              "      <td>172</td>\n",
              "      <td>88</td>\n",
              "      <td>88</td>\n",
              "      <td>3</td>\n",
              "      <td>8</td>\n",
              "      <td>10</td>\n",
              "      <td>4</td>\n",
              "      <td>7</td>\n",
              "      <td>0</td>\n",
              "      <td>0</td>\n",
              "      <td>0</td>\n",
              "      <td>0</td>\n",
              "      <td>0</td>\n",
              "      <td>0</td>\n",
              "      <td>3</td>\n",
              "      <td>11</td>\n",
              "      <td>1</td>\n",
              "    </tr>\n",
              "    <tr>\n",
              "      <th>1</th>\n",
              "      <td>2174</td>\n",
              "      <td>1954</td>\n",
              "      <td>Graduation</td>\n",
              "      <td>Single</td>\n",
              "      <td>46344.0</td>\n",
              "      <td>1</td>\n",
              "      <td>1</td>\n",
              "      <td>2014-03-08</td>\n",
              "      <td>38</td>\n",
              "      <td>11</td>\n",
              "      <td>1</td>\n",
              "      <td>6</td>\n",
              "      <td>2</td>\n",
              "      <td>1</td>\n",
              "      <td>6</td>\n",
              "      <td>2</td>\n",
              "      <td>1</td>\n",
              "      <td>1</td>\n",
              "      <td>2</td>\n",
              "      <td>5</td>\n",
              "      <td>0</td>\n",
              "      <td>0</td>\n",
              "      <td>0</td>\n",
              "      <td>0</td>\n",
              "      <td>0</td>\n",
              "      <td>0</td>\n",
              "      <td>3</td>\n",
              "      <td>11</td>\n",
              "      <td>0</td>\n",
              "    </tr>\n",
              "    <tr>\n",
              "      <th>2</th>\n",
              "      <td>4141</td>\n",
              "      <td>1965</td>\n",
              "      <td>Graduation</td>\n",
              "      <td>Together</td>\n",
              "      <td>71613.0</td>\n",
              "      <td>0</td>\n",
              "      <td>0</td>\n",
              "      <td>2013-08-21</td>\n",
              "      <td>26</td>\n",
              "      <td>426</td>\n",
              "      <td>49</td>\n",
              "      <td>127</td>\n",
              "      <td>111</td>\n",
              "      <td>21</td>\n",
              "      <td>42</td>\n",
              "      <td>1</td>\n",
              "      <td>8</td>\n",
              "      <td>2</td>\n",
              "      <td>10</td>\n",
              "      <td>4</td>\n",
              "      <td>0</td>\n",
              "      <td>0</td>\n",
              "      <td>0</td>\n",
              "      <td>0</td>\n",
              "      <td>0</td>\n",
              "      <td>0</td>\n",
              "      <td>3</td>\n",
              "      <td>11</td>\n",
              "      <td>0</td>\n",
              "    </tr>\n",
              "    <tr>\n",
              "      <th>3</th>\n",
              "      <td>6182</td>\n",
              "      <td>1984</td>\n",
              "      <td>Graduation</td>\n",
              "      <td>Together</td>\n",
              "      <td>26646.0</td>\n",
              "      <td>1</td>\n",
              "      <td>0</td>\n",
              "      <td>2014-02-10</td>\n",
              "      <td>26</td>\n",
              "      <td>11</td>\n",
              "      <td>4</td>\n",
              "      <td>20</td>\n",
              "      <td>10</td>\n",
              "      <td>3</td>\n",
              "      <td>5</td>\n",
              "      <td>2</td>\n",
              "      <td>2</td>\n",
              "      <td>0</td>\n",
              "      <td>4</td>\n",
              "      <td>6</td>\n",
              "      <td>0</td>\n",
              "      <td>0</td>\n",
              "      <td>0</td>\n",
              "      <td>0</td>\n",
              "      <td>0</td>\n",
              "      <td>0</td>\n",
              "      <td>3</td>\n",
              "      <td>11</td>\n",
              "      <td>0</td>\n",
              "    </tr>\n",
              "    <tr>\n",
              "      <th>4</th>\n",
              "      <td>5324</td>\n",
              "      <td>1981</td>\n",
              "      <td>PhD</td>\n",
              "      <td>Married</td>\n",
              "      <td>58293.0</td>\n",
              "      <td>1</td>\n",
              "      <td>0</td>\n",
              "      <td>2014-01-19</td>\n",
              "      <td>94</td>\n",
              "      <td>173</td>\n",
              "      <td>43</td>\n",
              "      <td>118</td>\n",
              "      <td>46</td>\n",
              "      <td>27</td>\n",
              "      <td>15</td>\n",
              "      <td>5</td>\n",
              "      <td>5</td>\n",
              "      <td>3</td>\n",
              "      <td>6</td>\n",
              "      <td>5</td>\n",
              "      <td>0</td>\n",
              "      <td>0</td>\n",
              "      <td>0</td>\n",
              "      <td>0</td>\n",
              "      <td>0</td>\n",
              "      <td>0</td>\n",
              "      <td>3</td>\n",
              "      <td>11</td>\n",
              "      <td>0</td>\n",
              "    </tr>\n",
              "  </tbody>\n",
              "</table>\n",
              "</div>"
            ],
            "text/plain": [
              "     ID  Year_Birth   Education  ... Z_CostContact  Z_Revenue  Response\n",
              "0  5524        1957  Graduation  ...             3         11         1\n",
              "1  2174        1954  Graduation  ...             3         11         0\n",
              "2  4141        1965  Graduation  ...             3         11         0\n",
              "3  6182        1984  Graduation  ...             3         11         0\n",
              "4  5324        1981         PhD  ...             3         11         0\n",
              "\n",
              "[5 rows x 29 columns]"
            ]
          },
          "metadata": {},
          "execution_count": 5
        }
      ]
    },
    {
      "cell_type": "markdown",
      "source": [
        "# Data Information"
      ],
      "metadata": {
        "id": "qW3znhJhcs7d"
      }
    },
    {
      "cell_type": "code",
      "source": [
        "# checking rows and columns\n",
        "print(\"\\n Number of rows in dataset : \" , dataset.shape[0])\n",
        "print(\"\\n Number of columns in dataset : \" , dataset.shape[1])\n",
        "print(\"\\n Columns in dataset : \", dataset.columns)"
      ],
      "metadata": {
        "colab": {
          "base_uri": "https://localhost:8080/"
        },
        "id": "isIeb5Ovl_4n",
        "outputId": "a03394f7-f1e7-44db-a61c-58168736afb8"
      },
      "execution_count": null,
      "outputs": [
        {
          "output_type": "stream",
          "name": "stdout",
          "text": [
            "\n",
            " Number of rows in dataset :  2240\n",
            "\n",
            " Number of columns in dataset :  29\n",
            "\n",
            " Columns in dataset :  Index(['ID', 'Year_Birth', 'Education', 'Marital_Status', 'Income', 'Kidhome',\n",
            "       'Teenhome', 'Dt_Customer', 'Recency', 'MntWines', 'MntFruits',\n",
            "       'MntMeatProducts', 'MntFishProducts', 'MntSweetProducts',\n",
            "       'MntGoldProds', 'NumDealsPurchases', 'NumWebPurchases',\n",
            "       'NumCatalogPurchases', 'NumStorePurchases', 'NumWebVisitsMonth',\n",
            "       'AcceptedCmp3', 'AcceptedCmp4', 'AcceptedCmp5', 'AcceptedCmp1',\n",
            "       'AcceptedCmp2', 'Complain', 'Z_CostContact', 'Z_Revenue', 'Response'],\n",
            "      dtype='object')\n"
          ]
        }
      ]
    },
    {
      "cell_type": "code",
      "source": [
        "# info() gives column information\n",
        "dataset.info()"
      ],
      "metadata": {
        "colab": {
          "base_uri": "https://localhost:8080/"
        },
        "id": "y0x8V7mbmAE7",
        "outputId": "dd66f63c-bff0-4a7a-d1a1-64cda86f3eaa"
      },
      "execution_count": null,
      "outputs": [
        {
          "output_type": "stream",
          "name": "stdout",
          "text": [
            "<class 'pandas.core.frame.DataFrame'>\n",
            "RangeIndex: 2240 entries, 0 to 2239\n",
            "Data columns (total 29 columns):\n",
            " #   Column               Non-Null Count  Dtype  \n",
            "---  ------               --------------  -----  \n",
            " 0   ID                   2240 non-null   int64  \n",
            " 1   Year_Birth           2240 non-null   int64  \n",
            " 2   Education            2240 non-null   object \n",
            " 3   Marital_Status       2240 non-null   object \n",
            " 4   Income               2216 non-null   float64\n",
            " 5   Kidhome              2240 non-null   int64  \n",
            " 6   Teenhome             2240 non-null   int64  \n",
            " 7   Dt_Customer          2240 non-null   object \n",
            " 8   Recency              2240 non-null   int64  \n",
            " 9   MntWines             2240 non-null   int64  \n",
            " 10  MntFruits            2240 non-null   int64  \n",
            " 11  MntMeatProducts      2240 non-null   int64  \n",
            " 12  MntFishProducts      2240 non-null   int64  \n",
            " 13  MntSweetProducts     2240 non-null   int64  \n",
            " 14  MntGoldProds         2240 non-null   int64  \n",
            " 15  NumDealsPurchases    2240 non-null   int64  \n",
            " 16  NumWebPurchases      2240 non-null   int64  \n",
            " 17  NumCatalogPurchases  2240 non-null   int64  \n",
            " 18  NumStorePurchases    2240 non-null   int64  \n",
            " 19  NumWebVisitsMonth    2240 non-null   int64  \n",
            " 20  AcceptedCmp3         2240 non-null   int64  \n",
            " 21  AcceptedCmp4         2240 non-null   int64  \n",
            " 22  AcceptedCmp5         2240 non-null   int64  \n",
            " 23  AcceptedCmp1         2240 non-null   int64  \n",
            " 24  AcceptedCmp2         2240 non-null   int64  \n",
            " 25  Complain             2240 non-null   int64  \n",
            " 26  Z_CostContact        2240 non-null   int64  \n",
            " 27  Z_Revenue            2240 non-null   int64  \n",
            " 28  Response             2240 non-null   int64  \n",
            "dtypes: float64(1), int64(25), object(3)\n",
            "memory usage: 507.6+ KB\n"
          ]
        }
      ]
    },
    {
      "cell_type": "markdown",
      "source": [
        "From above dataset, we can see that there are **3 categorical variables **(whose datatype is object), and **26 numerical variables**. \n",
        "\n",
        "Our Dependent target variable is **'Response'**\n",
        "Other are independent variables.\n",
        "\n",
        "There are some demographic information of customers like - ID, Year_Birth, Education, Marital_Status, Income. Other are product information."
      ],
      "metadata": {
        "id": "pX5gfhIHnUeJ"
      }
    },
    {
      "cell_type": "markdown",
      "source": [
        "**Description of each variable**"
      ],
      "metadata": {
        "id": "aahfkUISt_ZA"
      }
    },
    {
      "cell_type": "markdown",
      "source": [
        "ID: the unique identification code for every customer\n",
        "\n",
        "Year_Birth: The Year of a customer's birth\n",
        "\n",
        "Education: The level of education that a customer completed\n",
        "\n",
        "Marital_Status: Status of Marriage\n",
        "\n",
        "Income: Annual Income\n",
        "\n",
        "Kidhome: # of children under the age of 13 in Customer's household\n",
        "\n",
        "Teenhome: # of children between 13-19 in Customer's household\n",
        "\n",
        "Dt_Customer: Date of Customer Enrollment\n",
        "\n",
        "Recency: # of days since last purchase\n",
        "\n",
        "MntWines: Dollar amount of Wines purchased in last 2 years\n",
        "\n",
        "MntFruits: Dollar amount of Fruits purchased in last 2 years\n",
        "\n",
        "MntMeatProducts: Dollar amount of Meat products purchased in the last 2 years\n",
        "\n",
        "MntFishProducts: Dollar amount of Fish products purchased in the last 2 years\n",
        "\n",
        "MntSweetProducts: Dollar amount of Sweet products purchased in the last 2 years\n",
        "\n",
        "MntGoldProds: Dollar amount of Gold products purchased in the last 2 years\n",
        "\n",
        "NumDealsPurchases: # of purchases made with discount\n",
        "\n",
        "NumWebPurchases: # of purchases made through the company's website\n",
        "\n",
        "NumCatalogPurchases: # of purchases made using the catalog\n",
        "\n",
        "NumStorePurchases: # of purchases made directly in-store\n",
        "\n",
        "NumWebVisitsMonth: # of visits made through company's website\n",
        "\n",
        "AcceptedCmp1: 1 if customer accepted the offer in the 1st campaign, 0 otherwise\n",
        "\n",
        "AcceptedCmp2: 1 if customer accepted the offer in the 2nd campaign, 0 otherwise\n",
        "\n",
        "AcceptedCmp3: 1 if customer accepted the offer in the 3rd campaign, 0 otherwise\n",
        "\n",
        "AcceptedCmp4: 1 if customer accepted the offer in the 4th campaign, 0 otherwise\n",
        "\n",
        "AcceptedCmp5: 1 if customer accepted the offer in the 5th campaign, 0 otherwise\n",
        "\n",
        "Complain: 1 if customer complained in the last 2 years, 0 otherwise\n",
        "\n",
        "Response: 1 if customer accepted the offer in the last campaign, 0 otherwise\n"
      ],
      "metadata": {
        "id": "hrkwpqt0sGk8"
      }
    },
    {
      "cell_type": "markdown",
      "source": [
        "Unfortunately there is no information about ZCost and ZRevenue and I'm personally unfamilar with these terms. We'll have to look into these variables specifically to tell what kind of data they are and if they can help in our analysis."
      ],
      "metadata": {
        "id": "-NcIA8-ctjF_"
      }
    },
    {
      "cell_type": "code",
      "source": [
        "#Unique values in each categorical variable:\n",
        "print(\"Number of unique values in Education of dataset : \", dataset[\"Education\"].nunique())\n",
        "print(\"Different Education level : \\n\", dataset[\"Education\"].unique())\n",
        "\n",
        "print(\"\\nNumber of unique values in Marital_Status of dataset : \", dataset[\"Marital_Status\"].nunique())\n",
        "print(\"Different Marital_Status  : \\n\", dataset[\"Marital_Status\"].unique())\n",
        "\n",
        "print(\"\\nNumber of unique values in Customer enrollment date of dataset : \", dataset[\"Dt_Customer\"].nunique())\n"
      ],
      "metadata": {
        "colab": {
          "base_uri": "https://localhost:8080/"
        },
        "id": "9vL1EKuevT1r",
        "outputId": "87fbda1f-457b-418b-fa4d-cfa8e5d1c913"
      },
      "execution_count": null,
      "outputs": [
        {
          "output_type": "stream",
          "name": "stdout",
          "text": [
            "Number of unique values in Education of dataset :  5\n",
            "Different Education level : \n",
            " ['Graduation' 'PhD' 'Master' 'Basic' '2n Cycle']\n",
            "\n",
            "Number of unique values in Marital_Status of dataset :  8\n",
            "Different Marital_Status  : \n",
            " ['Single' 'Together' 'Married' 'Divorced' 'Widow' 'Alone' 'Absurd' 'YOLO']\n",
            "\n",
            "Number of unique values in Customer enrollment date of dataset :  663\n"
          ]
        }
      ]
    },
    {
      "cell_type": "markdown",
      "source": [
        "# Data Cleaning"
      ],
      "metadata": {
        "id": "U211F0mYns2k"
      }
    },
    {
      "cell_type": "markdown",
      "source": [
        "**Null value Removal**"
      ],
      "metadata": {
        "id": "EMtzRB4ynwH6"
      }
    },
    {
      "cell_type": "code",
      "source": [
        "dataset.columns.to_series().groupby(dataset.dtypes).groups\n",
        "dataset.isna().any()"
      ],
      "metadata": {
        "colab": {
          "base_uri": "https://localhost:8080/"
        },
        "id": "ljx1VDXsoCGT",
        "outputId": "53a21416-d5d8-45af-f5b9-f57b47480f1b"
      },
      "execution_count": null,
      "outputs": [
        {
          "output_type": "execute_result",
          "data": {
            "text/plain": [
              "ID                     False\n",
              "Year_Birth             False\n",
              "Education              False\n",
              "Marital_Status         False\n",
              "Income                  True\n",
              "Kidhome                False\n",
              "Teenhome               False\n",
              "Dt_Customer            False\n",
              "Recency                False\n",
              "MntWines               False\n",
              "MntFruits              False\n",
              "MntMeatProducts        False\n",
              "MntFishProducts        False\n",
              "MntSweetProducts       False\n",
              "MntGoldProds           False\n",
              "NumDealsPurchases      False\n",
              "NumWebPurchases        False\n",
              "NumCatalogPurchases    False\n",
              "NumStorePurchases      False\n",
              "NumWebVisitsMonth      False\n",
              "AcceptedCmp3           False\n",
              "AcceptedCmp4           False\n",
              "AcceptedCmp5           False\n",
              "AcceptedCmp1           False\n",
              "AcceptedCmp2           False\n",
              "Complain               False\n",
              "Z_CostContact          False\n",
              "Z_Revenue              False\n",
              "Response               False\n",
              "dtype: bool"
            ]
          },
          "metadata": {},
          "execution_count": 9
        }
      ]
    },
    {
      "cell_type": "markdown",
      "source": [
        "Only income column contains 'null' values. Lets check how many null values it contains."
      ],
      "metadata": {
        "id": "qcY5IcFboljT"
      }
    },
    {
      "cell_type": "code",
      "source": [
        "dataset.isnull().sum()"
      ],
      "metadata": {
        "colab": {
          "base_uri": "https://localhost:8080/"
        },
        "id": "RMAoiKLiorlx",
        "outputId": "5674587f-df0a-4137-848b-1caa2c9d795f"
      },
      "execution_count": null,
      "outputs": [
        {
          "output_type": "execute_result",
          "data": {
            "text/plain": [
              "ID                      0\n",
              "Year_Birth              0\n",
              "Education               0\n",
              "Marital_Status          0\n",
              "Income                 24\n",
              "Kidhome                 0\n",
              "Teenhome                0\n",
              "Dt_Customer             0\n",
              "Recency                 0\n",
              "MntWines                0\n",
              "MntFruits               0\n",
              "MntMeatProducts         0\n",
              "MntFishProducts         0\n",
              "MntSweetProducts        0\n",
              "MntGoldProds            0\n",
              "NumDealsPurchases       0\n",
              "NumWebPurchases         0\n",
              "NumCatalogPurchases     0\n",
              "NumStorePurchases       0\n",
              "NumWebVisitsMonth       0\n",
              "AcceptedCmp3            0\n",
              "AcceptedCmp4            0\n",
              "AcceptedCmp5            0\n",
              "AcceptedCmp1            0\n",
              "AcceptedCmp2            0\n",
              "Complain                0\n",
              "Z_CostContact           0\n",
              "Z_Revenue               0\n",
              "Response                0\n",
              "dtype: int64"
            ]
          },
          "metadata": {},
          "execution_count": 10
        }
      ]
    },
    {
      "cell_type": "markdown",
      "source": [
        "Income Column contains 24 null values. We can fill the null values, insteading of removing the rows by taking the mean of the values"
      ],
      "metadata": {
        "id": "1RKyDfPpoSU7"
      }
    },
    {
      "cell_type": "code",
      "source": [
        "# Filling the null values with mean instead of dropping the rows\n",
        "na_cols = dataset.isna().any()\n",
        "na_cols = na_cols[na_cols == True].reset_index()\n",
        "na_cols = na_cols[\"index\"].tolist()\n",
        "for col in dataset.columns[1:]:\n",
        "     if col in na_cols:\n",
        "        if dataset[col].dtype != 'object':\n",
        "             dataset[col] =  dataset[col].fillna(dataset[col].mean()).round(0)"
      ],
      "metadata": {
        "id": "vu_9EtMpuUHz"
      },
      "execution_count": null,
      "outputs": []
    },
    {
      "cell_type": "code",
      "source": [
        "# Checking again after filling null values\n",
        "dataset.isnull().sum()"
      ],
      "metadata": {
        "colab": {
          "base_uri": "https://localhost:8080/"
        },
        "id": "TedeDlKDunlR",
        "outputId": "b479f3d6-45cb-417f-f013-d39f8b9aac7d"
      },
      "execution_count": null,
      "outputs": [
        {
          "output_type": "execute_result",
          "data": {
            "text/plain": [
              "ID                     0\n",
              "Year_Birth             0\n",
              "Education              0\n",
              "Marital_Status         0\n",
              "Income                 0\n",
              "Kidhome                0\n",
              "Teenhome               0\n",
              "Dt_Customer            0\n",
              "Recency                0\n",
              "MntWines               0\n",
              "MntFruits              0\n",
              "MntMeatProducts        0\n",
              "MntFishProducts        0\n",
              "MntSweetProducts       0\n",
              "MntGoldProds           0\n",
              "NumDealsPurchases      0\n",
              "NumWebPurchases        0\n",
              "NumCatalogPurchases    0\n",
              "NumStorePurchases      0\n",
              "NumWebVisitsMonth      0\n",
              "AcceptedCmp3           0\n",
              "AcceptedCmp4           0\n",
              "AcceptedCmp5           0\n",
              "AcceptedCmp1           0\n",
              "AcceptedCmp2           0\n",
              "Complain               0\n",
              "Z_CostContact          0\n",
              "Z_Revenue              0\n",
              "Response               0\n",
              "dtype: int64"
            ]
          },
          "metadata": {},
          "execution_count": 12
        }
      ]
    },
    {
      "cell_type": "markdown",
      "source": [
        "As you can see above, at this stage there are no null values left in the dataset."
      ],
      "metadata": {
        "id": "zODegK9-vEJ6"
      }
    },
    {
      "cell_type": "markdown",
      "source": [
        "**Outliers detection and removal.**"
      ],
      "metadata": {
        "id": "yJTUVQrXGriz"
      }
    },
    {
      "cell_type": "markdown",
      "source": [
        "Removing the following features :\n",
        "\n",
        "categorical feature with only one class\n",
        "\n",
        "feature with only a singular value"
      ],
      "metadata": {
        "id": "ej_II1KSG9C1"
      }
    },
    {
      "cell_type": "code",
      "source": [
        "# filtering the features with only one class or singular value\n",
        "for col in dataset.columns :\n",
        "    if len(dataset[col].value_counts()) == 1 :\n",
        "        print(dataset[col].value_counts())"
      ],
      "metadata": {
        "colab": {
          "base_uri": "https://localhost:8080/"
        },
        "id": "Hcubkse_GqzA",
        "outputId": "03ed14a5-d541-4d11-b282-9dc6f1690234"
      },
      "execution_count": null,
      "outputs": [
        {
          "output_type": "stream",
          "name": "stdout",
          "text": [
            "3    2240\n",
            "Name: Z_CostContact, dtype: int64\n",
            "11    2240\n",
            "Name: Z_Revenue, dtype: int64\n"
          ]
        }
      ]
    },
    {
      "cell_type": "markdown",
      "source": [
        "As we can see there are two features in our dataset have constant/ single values, hence dropping them as it does not have any impact on the response variable."
      ],
      "metadata": {
        "id": "BnVuoyY0HMJF"
      }
    },
    {
      "cell_type": "code",
      "source": [
        "dataset.drop(['Z_CostContact', 'Z_Revenue'], axis=1, inplace=True)\n",
        "dataset.columns"
      ],
      "metadata": {
        "colab": {
          "base_uri": "https://localhost:8080/"
        },
        "id": "meAUrDfSHN51",
        "outputId": "4e3d8fe4-6432-406e-b706-c52e3064df31"
      },
      "execution_count": null,
      "outputs": [
        {
          "output_type": "execute_result",
          "data": {
            "text/plain": [
              "Index(['ID', 'Year_Birth', 'Education', 'Marital_Status', 'Income', 'Kidhome',\n",
              "       'Teenhome', 'Dt_Customer', 'Recency', 'MntWines', 'MntFruits',\n",
              "       'MntMeatProducts', 'MntFishProducts', 'MntSweetProducts',\n",
              "       'MntGoldProds', 'NumDealsPurchases', 'NumWebPurchases',\n",
              "       'NumCatalogPurchases', 'NumStorePurchases', 'NumWebVisitsMonth',\n",
              "       'AcceptedCmp3', 'AcceptedCmp4', 'AcceptedCmp5', 'AcceptedCmp1',\n",
              "       'AcceptedCmp2', 'Complain', 'Response'],\n",
              "      dtype='object')"
            ]
          },
          "metadata": {},
          "execution_count": 14
        }
      ]
    },
    {
      "cell_type": "markdown",
      "source": [
        "# Data Preprocessing"
      ],
      "metadata": {
        "id": "gCN8q-4Bpkpo"
      }
    },
    {
      "cell_type": "markdown",
      "source": [
        "As we have to visualize the data, we will convert few columns into format which will be helpful for visualization"
      ],
      "metadata": {
        "id": "8StHxSGLrHv4"
      }
    },
    {
      "cell_type": "code",
      "source": [
        "# Converting Income into 5 groups\n",
        "dataset['Income'] = pd.qcut(dataset['Income'], q=5, labels=False, precision=0)\n",
        "dataset['Income'].value_counts()"
      ],
      "metadata": {
        "colab": {
          "base_uri": "https://localhost:8080/"
        },
        "id": "UfEj2IhXrEVB",
        "outputId": "84aed828-7c5f-4fa0-b219-a533c1e0ef7d"
      },
      "execution_count": null,
      "outputs": [
        {
          "output_type": "execute_result",
          "data": {
            "text/plain": [
              "3    448\n",
              "1    448\n",
              "4    448\n",
              "2    448\n",
              "0    448\n",
              "Name: Income, dtype: int64"
            ]
          },
          "metadata": {},
          "execution_count": 15
        }
      ]
    },
    {
      "cell_type": "code",
      "source": [
        "dataset['n_kids'] = dataset['Kidhome'] + dataset['Teenhome'] # Adding two columns to get total number of kids\n",
        "dataset['Marital_Status'] = dataset['Marital_Status'].replace('Together', 'Livein')  # Making marital status into 5 groups\n",
        "dataset['Marital_Status'] = dataset['Marital_Status'].replace(['Alone', 'YOLO', 'Absurd'], 'Single') # Combining marital status Alone, YOLO, Absurd into one group that is Single"
      ],
      "metadata": {
        "id": "9cWRNxC9rFVh"
      },
      "execution_count": null,
      "outputs": []
    },
    {
      "cell_type": "code",
      "source": [
        "# as 'Dt_customer' was previously encoded by label encoder, we will get back the original values.\n",
        "# dataset['Dt_Customer'] = le.inverse_transform(dataset['Dt_Customer'])\n",
        "\n",
        "# converting to datetime format\n",
        "dataset['Dt_Customer'] = pd.to_datetime(dataset['Dt_Customer'], format=\"%Y-%m-%d\")\n",
        "\n",
        "#from customer date, we can find out the total number of days of customer with the company\n",
        "import datetime\n",
        "from datetime import datetime, date\n",
        "\n",
        "for i in range(0, len(dataset)):\n",
        "    dataset['Days_with_company'] = datetime.today().date()-dataset['Dt_Customer'].dt.date\n",
        "\n",
        "print(dataset['Days_with_company'].dtype)\n",
        "dataset['Days_with_company'].head()\n",
        "\n",
        "dataset['Days_with_company'] = dataset['Days_with_company'].apply(lambda x: int(x/np.timedelta64(1, 'D')))\n",
        "dataset['Days_with_company'].dtype\n",
        "\n",
        "# days with company are divided into quantiles to plot them\n",
        "dataset['Days_with_company'] = pd.qcut(dataset['Days_with_company'], q=4, labels=['Legacy Customer','Old customer','New Customer','Current Customer'], precision=0)\n",
        "dataset['Days_with_company'].value_counts()"
      ],
      "metadata": {
        "colab": {
          "base_uri": "https://localhost:8080/"
        },
        "id": "rdMYS74krFjv",
        "outputId": "4db1d2bc-f483-4776-f07b-e3f65a16484d"
      },
      "execution_count": null,
      "outputs": [
        {
          "output_type": "stream",
          "name": "stdout",
          "text": [
            "timedelta64[ns]\n"
          ]
        },
        {
          "output_type": "execute_result",
          "data": {
            "text/plain": [
              "New Customer        566\n",
              "Old customer        560\n",
              "Legacy Customer     560\n",
              "Current Customer    554\n",
              "Name: Days_with_company, dtype: int64"
            ]
          },
          "metadata": {},
          "execution_count": 17
        }
      ]
    },
    {
      "cell_type": "code",
      "source": [
        "# dropping the date column as it is not required now\n",
        "dataset = dataset.drop(columns=\"Dt_Customer\")"
      ],
      "metadata": {
        "id": "lx1KKuJnrFu2"
      },
      "execution_count": null,
      "outputs": []
    },
    {
      "cell_type": "code",
      "source": [
        "# calculating age as it is in the year 2020\n",
        "dataset['Customer_age'] = 2020 - dataset['Year_Birth']\n",
        "# dropping the 'year_Birth' feature from the data as it is now redundant\n",
        "dataset.drop('Year_Birth', axis=1, inplace=True)\n",
        "dataset['Customer_age'].head()"
      ],
      "metadata": {
        "colab": {
          "base_uri": "https://localhost:8080/"
        },
        "id": "qy9a5nKJrF7_",
        "outputId": "e135eb5a-a7b8-47f8-b3d4-704317092f99"
      },
      "execution_count": null,
      "outputs": [
        {
          "output_type": "execute_result",
          "data": {
            "text/plain": [
              "0    63\n",
              "1    66\n",
              "2    55\n",
              "3    36\n",
              "4    39\n",
              "Name: Customer_age, dtype: int64"
            ]
          },
          "metadata": {},
          "execution_count": 19
        }
      ]
    },
    {
      "cell_type": "code",
      "source": [
        "#In order to improve the signal-noise ratio in our data, we will be further discretizing this feature into 11 bins, where each bin would represent a range of 5 years.\n",
        "dataset['Customer_age'] = pd.cut(dataset['Customer_age'], bins=11, labels=False, include_lowest=True)"
      ],
      "metadata": {
        "id": "KWhllFv_rGHl"
      },
      "execution_count": null,
      "outputs": []
    },
    {
      "cell_type": "code",
      "source": [
        "dataset['Kidhome'] = (dataset['Kidhome']/dataset['n_kids'])*100\n",
        "dataset['Teenhome'] = (dataset['Teenhome']/dataset['n_kids'])*100\n",
        "# Fill null values\n",
        "dataset['Kidhome'].fillna(0, inplace=True)\n",
        "dataset['Teenhome'].fillna(0, inplace=True)\n",
        "\n",
        "# renaming the feature 'Kidhome' and 'Teenhome'\n",
        "dataset = dataset.rename(columns= {'Kidhome':'percent_kids', 'Teenhome':'percent_teenagers'})\n",
        "\n",
        "# rounding up the values in percent_kids and percent_teenagers to 0 decimals.\n",
        "dataset['percent_kids'] = dataset['percent_kids'].apply(lambda x: round(x, 0))\n",
        "dataset['percent_teenagers'] = dataset['percent_teenagers'].apply(lambda x: round(x, 0))"
      ],
      "metadata": {
        "id": "WQCBu49wt4cD"
      },
      "execution_count": null,
      "outputs": []
    },
    {
      "cell_type": "markdown",
      "source": [
        "# Data Visualization"
      ],
      "metadata": {
        "id": "isvNepeGzzFF"
      }
    },
    {
      "cell_type": "markdown",
      "source": [
        "**1. Target Variable**\n",
        "\n",
        "The following pie chart shows the percentage of observations that correspond to each class of the response variable: no(0) and yes(1). As shown below, this is an imbalanced data set because both classes are not equally distributed among all observations, being no the majority class (85.1%)."
      ],
      "metadata": {
        "id": "9ADATh1B0ldG"
      }
    },
    {
      "cell_type": "code",
      "source": [
        "print(\"Number customers responded to the campaign as Yes/No \\n\", dataset[\"Response\"].value_counts())\n",
        "response=dataset['Response'].value_counts()\n",
        "fig = px.pie(dataset, values=response.values, names=['No','Yes'],color_discrete_sequence=px.colors.sequential.RdBu,\n",
        "            title='Response Breakdown')\n",
        "fig.show()"
      ],
      "metadata": {
        "colab": {
          "base_uri": "https://localhost:8080/",
          "height": 611
        },
        "id": "YkNNz0I10yg4",
        "outputId": "ea0a615a-712f-4c91-f827-9788a4013f3d"
      },
      "execution_count": null,
      "outputs": [
        {
          "output_type": "stream",
          "name": "stdout",
          "text": [
            "Number customers responded to the campaign as Yes/No \n",
            " 0    1906\n",
            "1     334\n",
            "Name: Response, dtype: int64\n"
          ]
        },
        {
          "output_type": "display_data",
          "data": {
            "text/html": [
              "<html>\n",
              "<head><meta charset=\"utf-8\" /></head>\n",
              "<body>\n",
              "    <div>\n",
              "            <script src=\"https://cdnjs.cloudflare.com/ajax/libs/mathjax/2.7.5/MathJax.js?config=TeX-AMS-MML_SVG\"></script><script type=\"text/javascript\">if (window.MathJax) {MathJax.Hub.Config({SVG: {font: \"STIX-Web\"}});}</script>\n",
              "                <script type=\"text/javascript\">window.PlotlyConfig = {MathJaxConfig: 'local'};</script>\n",
              "        <script src=\"https://cdn.plot.ly/plotly-latest.min.js\"></script>    \n",
              "            <div id=\"35d7588d-f6a3-401d-acc2-a86ee47a7fea\" class=\"plotly-graph-div\" style=\"height:525px; width:100%;\"></div>\n",
              "            <script type=\"text/javascript\">\n",
              "                \n",
              "                    window.PLOTLYENV=window.PLOTLYENV || {};\n",
              "                    \n",
              "                if (document.getElementById(\"35d7588d-f6a3-401d-acc2-a86ee47a7fea\")) {\n",
              "                    Plotly.newPlot(\n",
              "                        '35d7588d-f6a3-401d-acc2-a86ee47a7fea',\n",
              "                        [{\"domain\": {\"x\": [0.0, 1.0], \"y\": [0.0, 1.0]}, \"hoverlabel\": {\"namelength\": 0}, \"hovertemplate\": \"label=%{label}<br>value=%{value}\", \"labels\": [\"No\", \"Yes\"], \"legendgroup\": \"\", \"name\": \"\", \"showlegend\": true, \"type\": \"pie\", \"values\": [1906, 334]}],\n",
              "                        {\"legend\": {\"tracegroupgap\": 0}, \"piecolorway\": [\"rgb(103,0,31)\", \"rgb(178,24,43)\", \"rgb(214,96,77)\", \"rgb(244,165,130)\", \"rgb(253,219,199)\", \"rgb(247,247,247)\", \"rgb(209,229,240)\", \"rgb(146,197,222)\", \"rgb(67,147,195)\", \"rgb(33,102,172)\", \"rgb(5,48,97)\"], \"template\": {\"data\": {\"bar\": [{\"error_x\": {\"color\": \"#2a3f5f\"}, \"error_y\": {\"color\": \"#2a3f5f\"}, \"marker\": {\"line\": {\"color\": \"#E5ECF6\", \"width\": 0.5}}, \"type\": \"bar\"}], \"barpolar\": [{\"marker\": {\"line\": {\"color\": \"#E5ECF6\", \"width\": 0.5}}, \"type\": \"barpolar\"}], \"carpet\": [{\"aaxis\": {\"endlinecolor\": \"#2a3f5f\", \"gridcolor\": \"white\", \"linecolor\": \"white\", \"minorgridcolor\": \"white\", \"startlinecolor\": \"#2a3f5f\"}, \"baxis\": {\"endlinecolor\": \"#2a3f5f\", \"gridcolor\": \"white\", \"linecolor\": \"white\", \"minorgridcolor\": \"white\", \"startlinecolor\": \"#2a3f5f\"}, \"type\": \"carpet\"}], \"choropleth\": [{\"colorbar\": {\"outlinewidth\": 0, \"ticks\": \"\"}, \"type\": \"choropleth\"}], \"contour\": [{\"colorbar\": {\"outlinewidth\": 0, \"ticks\": \"\"}, \"colorscale\": [[0.0, \"#0d0887\"], [0.1111111111111111, \"#46039f\"], [0.2222222222222222, \"#7201a8\"], [0.3333333333333333, \"#9c179e\"], [0.4444444444444444, \"#bd3786\"], [0.5555555555555556, \"#d8576b\"], [0.6666666666666666, \"#ed7953\"], [0.7777777777777778, \"#fb9f3a\"], [0.8888888888888888, \"#fdca26\"], [1.0, \"#f0f921\"]], \"type\": \"contour\"}], \"contourcarpet\": [{\"colorbar\": {\"outlinewidth\": 0, \"ticks\": \"\"}, \"type\": \"contourcarpet\"}], \"heatmap\": [{\"colorbar\": {\"outlinewidth\": 0, \"ticks\": \"\"}, \"colorscale\": [[0.0, \"#0d0887\"], [0.1111111111111111, \"#46039f\"], [0.2222222222222222, \"#7201a8\"], [0.3333333333333333, \"#9c179e\"], [0.4444444444444444, \"#bd3786\"], [0.5555555555555556, \"#d8576b\"], [0.6666666666666666, \"#ed7953\"], [0.7777777777777778, \"#fb9f3a\"], [0.8888888888888888, \"#fdca26\"], [1.0, \"#f0f921\"]], \"type\": \"heatmap\"}], \"heatmapgl\": [{\"colorbar\": {\"outlinewidth\": 0, \"ticks\": \"\"}, \"colorscale\": [[0.0, \"#0d0887\"], [0.1111111111111111, \"#46039f\"], [0.2222222222222222, \"#7201a8\"], [0.3333333333333333, \"#9c179e\"], [0.4444444444444444, \"#bd3786\"], [0.5555555555555556, \"#d8576b\"], [0.6666666666666666, \"#ed7953\"], [0.7777777777777778, \"#fb9f3a\"], [0.8888888888888888, \"#fdca26\"], [1.0, \"#f0f921\"]], \"type\": \"heatmapgl\"}], \"histogram\": [{\"marker\": {\"colorbar\": {\"outlinewidth\": 0, \"ticks\": \"\"}}, \"type\": \"histogram\"}], \"histogram2d\": [{\"colorbar\": {\"outlinewidth\": 0, \"ticks\": \"\"}, \"colorscale\": [[0.0, \"#0d0887\"], [0.1111111111111111, \"#46039f\"], [0.2222222222222222, \"#7201a8\"], [0.3333333333333333, \"#9c179e\"], [0.4444444444444444, \"#bd3786\"], [0.5555555555555556, \"#d8576b\"], [0.6666666666666666, \"#ed7953\"], [0.7777777777777778, \"#fb9f3a\"], [0.8888888888888888, \"#fdca26\"], [1.0, \"#f0f921\"]], \"type\": \"histogram2d\"}], \"histogram2dcontour\": [{\"colorbar\": {\"outlinewidth\": 0, \"ticks\": \"\"}, \"colorscale\": [[0.0, \"#0d0887\"], [0.1111111111111111, \"#46039f\"], [0.2222222222222222, \"#7201a8\"], [0.3333333333333333, \"#9c179e\"], [0.4444444444444444, \"#bd3786\"], [0.5555555555555556, \"#d8576b\"], [0.6666666666666666, \"#ed7953\"], [0.7777777777777778, \"#fb9f3a\"], [0.8888888888888888, \"#fdca26\"], [1.0, \"#f0f921\"]], \"type\": \"histogram2dcontour\"}], \"mesh3d\": [{\"colorbar\": {\"outlinewidth\": 0, \"ticks\": \"\"}, \"type\": \"mesh3d\"}], \"parcoords\": [{\"line\": {\"colorbar\": {\"outlinewidth\": 0, \"ticks\": \"\"}}, \"type\": \"parcoords\"}], \"pie\": [{\"automargin\": true, \"type\": \"pie\"}], \"scatter\": [{\"marker\": {\"colorbar\": {\"outlinewidth\": 0, \"ticks\": \"\"}}, \"type\": \"scatter\"}], \"scatter3d\": [{\"line\": {\"colorbar\": {\"outlinewidth\": 0, \"ticks\": \"\"}}, \"marker\": {\"colorbar\": {\"outlinewidth\": 0, \"ticks\": \"\"}}, \"type\": \"scatter3d\"}], \"scattercarpet\": [{\"marker\": {\"colorbar\": {\"outlinewidth\": 0, \"ticks\": \"\"}}, \"type\": \"scattercarpet\"}], \"scattergeo\": [{\"marker\": {\"colorbar\": {\"outlinewidth\": 0, \"ticks\": \"\"}}, \"type\": \"scattergeo\"}], \"scattergl\": [{\"marker\": {\"colorbar\": {\"outlinewidth\": 0, \"ticks\": \"\"}}, \"type\": \"scattergl\"}], \"scattermapbox\": [{\"marker\": {\"colorbar\": {\"outlinewidth\": 0, \"ticks\": \"\"}}, \"type\": \"scattermapbox\"}], \"scatterpolar\": [{\"marker\": {\"colorbar\": {\"outlinewidth\": 0, \"ticks\": \"\"}}, \"type\": \"scatterpolar\"}], \"scatterpolargl\": [{\"marker\": {\"colorbar\": {\"outlinewidth\": 0, \"ticks\": \"\"}}, \"type\": \"scatterpolargl\"}], \"scatterternary\": [{\"marker\": {\"colorbar\": {\"outlinewidth\": 0, \"ticks\": \"\"}}, \"type\": \"scatterternary\"}], \"surface\": [{\"colorbar\": {\"outlinewidth\": 0, \"ticks\": \"\"}, \"colorscale\": [[0.0, \"#0d0887\"], [0.1111111111111111, \"#46039f\"], [0.2222222222222222, \"#7201a8\"], [0.3333333333333333, \"#9c179e\"], [0.4444444444444444, \"#bd3786\"], [0.5555555555555556, \"#d8576b\"], [0.6666666666666666, \"#ed7953\"], [0.7777777777777778, \"#fb9f3a\"], [0.8888888888888888, \"#fdca26\"], [1.0, \"#f0f921\"]], \"type\": \"surface\"}], \"table\": [{\"cells\": {\"fill\": {\"color\": \"#EBF0F8\"}, \"line\": {\"color\": \"white\"}}, \"header\": {\"fill\": {\"color\": \"#C8D4E3\"}, \"line\": {\"color\": \"white\"}}, \"type\": \"table\"}]}, \"layout\": {\"annotationdefaults\": {\"arrowcolor\": \"#2a3f5f\", \"arrowhead\": 0, \"arrowwidth\": 1}, \"coloraxis\": {\"colorbar\": {\"outlinewidth\": 0, \"ticks\": \"\"}}, \"colorscale\": {\"diverging\": [[0, \"#8e0152\"], [0.1, \"#c51b7d\"], [0.2, \"#de77ae\"], [0.3, \"#f1b6da\"], [0.4, \"#fde0ef\"], [0.5, \"#f7f7f7\"], [0.6, \"#e6f5d0\"], [0.7, \"#b8e186\"], [0.8, \"#7fbc41\"], [0.9, \"#4d9221\"], [1, \"#276419\"]], \"sequential\": [[0.0, \"#0d0887\"], [0.1111111111111111, \"#46039f\"], [0.2222222222222222, \"#7201a8\"], [0.3333333333333333, \"#9c179e\"], [0.4444444444444444, \"#bd3786\"], [0.5555555555555556, \"#d8576b\"], [0.6666666666666666, \"#ed7953\"], [0.7777777777777778, \"#fb9f3a\"], [0.8888888888888888, \"#fdca26\"], [1.0, \"#f0f921\"]], \"sequentialminus\": [[0.0, \"#0d0887\"], [0.1111111111111111, \"#46039f\"], [0.2222222222222222, \"#7201a8\"], [0.3333333333333333, \"#9c179e\"], [0.4444444444444444, \"#bd3786\"], [0.5555555555555556, \"#d8576b\"], [0.6666666666666666, \"#ed7953\"], [0.7777777777777778, \"#fb9f3a\"], [0.8888888888888888, \"#fdca26\"], [1.0, \"#f0f921\"]]}, \"colorway\": [\"#636efa\", \"#EF553B\", \"#00cc96\", \"#ab63fa\", \"#FFA15A\", \"#19d3f3\", \"#FF6692\", \"#B6E880\", \"#FF97FF\", \"#FECB52\"], \"font\": {\"color\": \"#2a3f5f\"}, \"geo\": {\"bgcolor\": \"white\", \"lakecolor\": \"white\", \"landcolor\": \"#E5ECF6\", \"showlakes\": true, \"showland\": true, \"subunitcolor\": \"white\"}, \"hoverlabel\": {\"align\": \"left\"}, \"hovermode\": \"closest\", \"mapbox\": {\"style\": \"light\"}, \"paper_bgcolor\": \"white\", \"plot_bgcolor\": \"#E5ECF6\", \"polar\": {\"angularaxis\": {\"gridcolor\": \"white\", \"linecolor\": \"white\", \"ticks\": \"\"}, \"bgcolor\": \"#E5ECF6\", \"radialaxis\": {\"gridcolor\": \"white\", \"linecolor\": \"white\", \"ticks\": \"\"}}, \"scene\": {\"xaxis\": {\"backgroundcolor\": \"#E5ECF6\", \"gridcolor\": \"white\", \"gridwidth\": 2, \"linecolor\": \"white\", \"showbackground\": true, \"ticks\": \"\", \"zerolinecolor\": \"white\"}, \"yaxis\": {\"backgroundcolor\": \"#E5ECF6\", \"gridcolor\": \"white\", \"gridwidth\": 2, \"linecolor\": \"white\", \"showbackground\": true, \"ticks\": \"\", \"zerolinecolor\": \"white\"}, \"zaxis\": {\"backgroundcolor\": \"#E5ECF6\", \"gridcolor\": \"white\", \"gridwidth\": 2, \"linecolor\": \"white\", \"showbackground\": true, \"ticks\": \"\", \"zerolinecolor\": \"white\"}}, \"shapedefaults\": {\"line\": {\"color\": \"#2a3f5f\"}}, \"ternary\": {\"aaxis\": {\"gridcolor\": \"white\", \"linecolor\": \"white\", \"ticks\": \"\"}, \"baxis\": {\"gridcolor\": \"white\", \"linecolor\": \"white\", \"ticks\": \"\"}, \"bgcolor\": \"#E5ECF6\", \"caxis\": {\"gridcolor\": \"white\", \"linecolor\": \"white\", \"ticks\": \"\"}}, \"title\": {\"x\": 0.05}, \"xaxis\": {\"automargin\": true, \"gridcolor\": \"white\", \"linecolor\": \"white\", \"ticks\": \"\", \"title\": {\"standoff\": 15}, \"zerolinecolor\": \"white\", \"zerolinewidth\": 2}, \"yaxis\": {\"automargin\": true, \"gridcolor\": \"white\", \"linecolor\": \"white\", \"ticks\": \"\", \"title\": {\"standoff\": 15}, \"zerolinecolor\": \"white\", \"zerolinewidth\": 2}}}, \"title\": {\"text\": \"Response Breakdown\"}},\n",
              "                        {\"responsive\": true}\n",
              "                    ).then(function(){\n",
              "                            \n",
              "var gd = document.getElementById('35d7588d-f6a3-401d-acc2-a86ee47a7fea');\n",
              "var x = new MutationObserver(function (mutations, observer) {{\n",
              "        var display = window.getComputedStyle(gd).display;\n",
              "        if (!display || display === 'none') {{\n",
              "            console.log([gd, 'removed!']);\n",
              "            Plotly.purge(gd);\n",
              "            observer.disconnect();\n",
              "        }}\n",
              "}});\n",
              "\n",
              "// Listen for the removal of the full notebook cells\n",
              "var notebookContainer = gd.closest('#notebook-container');\n",
              "if (notebookContainer) {{\n",
              "    x.observe(notebookContainer, {childList: true});\n",
              "}}\n",
              "\n",
              "// Listen for the clearing of the current output cell\n",
              "var outputEl = gd.closest('.output');\n",
              "if (outputEl) {{\n",
              "    x.observe(outputEl, {childList: true});\n",
              "}}\n",
              "\n",
              "                        })\n",
              "                };\n",
              "                \n",
              "            </script>\n",
              "        </div>\n",
              "</body>\n",
              "</html>"
            ]
          },
          "metadata": {}
        }
      ]
    },
    {
      "cell_type": "markdown",
      "source": [
        "Let us visualize data based on Response variable. Try to find reasons why customer responded or not responded to the previous campaign"
      ],
      "metadata": {
        "id": "CE-eTDOi26__"
      }
    },
    {
      "cell_type": "markdown",
      "source": [
        "**2. Visualization of Education and Income with Response of the customers.**"
      ],
      "metadata": {
        "id": "wMlFTy9zM4YS"
      }
    },
    {
      "cell_type": "code",
      "source": [
        "g = sns.catplot(x='Response', hue='Income', col='Education', data=dataset, kind='count', legend=False)\n",
        "plt.legend(title = 'Income',labels=['Low Income','Below Average','Average','Above Average', 'High Income'])\n",
        "plt.show(g)"
      ],
      "metadata": {
        "colab": {
          "base_uri": "https://localhost:8080/",
          "height": 245
        },
        "id": "SMKeH-glKnn6",
        "outputId": "469779a4-6e6c-4414-91cc-2fac44bc6b1b"
      },
      "execution_count": null,
      "outputs": [
        {
          "output_type": "display_data",
          "data": {
            "image/png": "[encoded data removed]",
            "text/plain": [
              "<Figure size 1800x360 with 5 Axes>"
            ]
          },
          "metadata": {
            "needs_background": "light"
          }
        }
      ]
    },
    {
      "cell_type": "markdown",
      "source": [
        "Observation :\n",
        "\n",
        "- Customers who have a education level of 'Graduation' show the highest rejection levels to the last campaign, where the effect of 'Income' was insignificant towards the kind of response.\n",
        "\n",
        "- Customers who have a educational background of 'PhD' and 'Master', show approximately similar levels of rejection towards the last campaign.\n",
        "\n",
        "- Among the customers having a 'PhD', we can see the lowest levels of rejection response towards the last campaign is being showed by the customers having a low income, and the level of rejection responses gradually grows as the income levels increase peaking at the customers with above average income and then a slight decrease of rejection levels by customers with high income.\n",
        "\n",
        "- The level of the customer's income is insignificant towards their levels of a rejection response, for the customers having a 'Master' in education.\n",
        "\n",
        "- For the customers with a 'Basic' educational background we can see tht the rejection levels are reletively lower than for customers with other educational backgrounds; but within these class of customers, the ones having a low level of income show significantly higher level of a rejection response towards the last campaign."
      ],
      "metadata": {
        "id": "eflya5fyMhWN"
      }
    },
    {
      "cell_type": "markdown",
      "source": [
        "**3. Visualizatoin of Marital_Status and n_kids with Response.**"
      ],
      "metadata": {
        "id": "PQfFNcCmODln"
      }
    },
    {
      "cell_type": "code",
      "source": [
        "h = sns.catplot(x='Response', hue='n_kids', col='Marital_Status', data=dataset, kind='count', legend=False)\n",
        "plt.legend(title = 'Number of Kids',labels=['No Kid','1 Kid','2 Kids','3 Kids'])\n",
        "plt.show(g)"
      ],
      "metadata": {
        "colab": {
          "base_uri": "https://localhost:8080/",
          "height": 245
        },
        "id": "bRbgDzVTOJw9",
        "outputId": "687485cf-982f-42ff-a040-bb2d10007617"
      },
      "execution_count": null,
      "outputs": [
        {
          "output_type": "display_data",
          "data": {
            "image/png": "[encoded data removed]",
            "text/plain": [
              "<Figure size 1800x360 with 5 Axes>"
            ]
          },
          "metadata": {
            "needs_background": "light"
          }
        }
      ]
    },
    {
      "cell_type": "markdown",
      "source": [
        "Observtions :\n",
        "\n",
        "- We can clearly see that a majority of the rejection responses towards the last campaign is from customers who are married, followed by customers who are in a live-in relationship and who are single.\n",
        "\n",
        "- We can also see a clear pattern, that customers having 1 kid irrespective of their maritl status, show the relatively highest rejection responses across the population."
      ],
      "metadata": {
        "id": "cgZKyEXsRTRO"
      }
    },
    {
      "cell_type": "markdown",
      "source": [
        "**4. Visualization of Customer_age, Days_with_company and Response**"
      ],
      "metadata": {
        "id": "m7zBOSa5RrCW"
      }
    },
    {
      "cell_type": "code",
      "source": [
        "i = sns.catplot(x='Response', hue='Customer_age', col='Days_with_company', data=dataset, kind='count', legend=False)\n",
        "plt.legend(title = 'Customer Age',labels=['0-5 yrs','6-10 yrs','11-15 yrs','16-20 yrs','21-25 yrs','26-30 yrs','51-55 yrs'])\n",
        "plt.show(i)"
      ],
      "metadata": {
        "colab": {
          "base_uri": "https://localhost:8080/",
          "height": 302
        },
        "id": "OqTznXMiRvLg",
        "outputId": "0a231fbd-605c-42ab-bb13-deb78eec3f65"
      },
      "execution_count": null,
      "outputs": [
        {
          "output_type": "display_data",
          "data": {
            "image/png": "[encoded data removed]",
            "text/plain": [
              "<Figure size 1440x360 with 4 Axes>"
            ]
          },
          "metadata": {
            "needs_background": "light"
          }
        }
      ]
    },
    {
      "cell_type": "markdown",
      "source": [
        "Observations :\n",
        "\n",
        "- We can see a similar level of relatively higher rejection responses from customers who are legecy and old customers.\n",
        "\n",
        "- We can also see a similar level of relatively lower but independently higher, rejection levels from new and current customers.\n",
        "\n",
        "- A common pttern among all kinds of customers is that the highest levels of rejection responses are shown by the cutomers in the age 11 to 20 and 51 to 55."
      ],
      "metadata": {
        "id": "H61wsgkEWKwi"
      }
    },
    {
      "cell_type": "markdown",
      "source": [
        "**5. Visualization of percent_kids, percent_teenager with Response.**"
      ],
      "metadata": {
        "id": "s-qMChypXLJf"
      }
    },
    {
      "cell_type": "code",
      "source": [
        "j = sns.catplot(x='Response', hue='percent_kids', col='percent_teenagers', data=dataset, kind='count', legend=False)\n",
        "plt.legend(title = 'Percentage of Kids',labels=['0 %','33 %','50 %','67 %','100 %'])\n",
        "plt.show(j)"
      ],
      "metadata": {
        "colab": {
          "base_uri": "https://localhost:8080/",
          "height": 245
        },
        "id": "KxMzncuLXVVp",
        "outputId": "a35b3fe6-27b5-4c51-ba3a-cfa891178834"
      },
      "execution_count": null,
      "outputs": [
        {
          "output_type": "display_data",
          "data": {
            "image/png": "[encoded data removed]",
            "text/plain": [
              "<Figure size 1800x360 with 5 Axes>"
            ]
          },
          "metadata": {
            "needs_background": "light"
          }
        }
      ]
    },
    {
      "cell_type": "markdown",
      "source": [
        "Observations :\n",
        "\n",
        "We can see high levels of rejection responses from customers :\n",
        "\n",
        "- having 0 teenagers or kids\n",
        "\n",
        "- having only kids and o teenagers\n",
        "\n",
        "- having equally kids and teenagers\n",
        "\n",
        "- having only teenagers\n",
        "\n",
        "On the contrary, customers with 70% kids and 30% teenagers are showing lower rejection responses towards the last campaign.\n",
        "\n",
        "To summarize the above observations, customers with all kinds of combinations of kids and teenagers (except 30-70 ratio) in their family show similarly high rejection responses."
      ],
      "metadata": {
        "id": "xVlgmZ_FYbMX"
      }
    },
    {
      "cell_type": "code",
      "source": [
        "dataset_1 = dataset[['NumDealsPurchases','NumWebPurchases','NumCatalogPurchases','NumStorePurchases','NumWebVisitsMonth']]\n",
        "dataset_2 = dataset[['MntWines','MntFruits','MntMeatProducts','MntFishProducts','MntSweetProducts','MntGoldProds']]"
      ],
      "metadata": {
        "id": "mAucPKhcdAl7"
      },
      "execution_count": null,
      "outputs": []
    },
    {
      "cell_type": "code",
      "source": [
        "## lets visualize distribution of purchase with repect to Response.\n",
        "plots_per_row = 5\n",
        "number_of_plots = dataset_1.select_dtypes(exclude=['object']).shape[-1]\n",
        "fig, axes = plt.subplots((number_of_plots//plots_per_row)+(number_of_plots%5!=0),plots_per_row) \n",
        "\n",
        "axes = axes.flatten()\n",
        "i = 0\n",
        "for index,col in dataset_1.select_dtypes(exclude=['object']).columns.to_series().items():    \n",
        "    a = sns.histplot(data=dataset_1, x=col, hue=dataset['Response'], ax=axes[i],kde=False,bins=10)\n",
        "    i+=1\n",
        "    \n",
        "for i in range(1,len(axes)-number_of_plots+1):\n",
        "    fig.delaxes(axes[-i]) # remove empty subplot\n",
        "# plt.tight_layout()\n",
        "fig.set_figwidth(20)\n",
        "fig.set_figheight(5)\n",
        "\n",
        "plt.show()"
      ],
      "metadata": {
        "colab": {
          "base_uri": "https://localhost:8080/",
          "height": 331
        },
        "id": "MB0Zfx6Pc28Y",
        "outputId": "733b4910-64bd-4294-d504-625e06cabc59"
      },
      "execution_count": null,
      "outputs": [
        {
          "output_type": "display_data",
          "data": {
            "image/png": "[encoded data removed]",
            "text/plain": [
              "<Figure size 1440x360 with 5 Axes>"
            ]
          },
          "metadata": {
            "needs_background": "light"
          }
        }
      ]
    },
    {
      "cell_type": "markdown",
      "source": [
        "Observations :\n",
        "\n",
        "We can observe from above that there is a high level of rejection responses from customers belonging to the type :\n",
        "\n",
        "- customers who did 1 to 4 web purchases from the company website (Fig 2)\n",
        "\n",
        "- customers who did 1 to 4 purchases with discount deals (Fig 1)\n",
        "\n",
        "- customers who did 1 to 3 purchases from the catalog (Fig 3)\n",
        "\n",
        "- customers who did 2 to 4 purchases directly from the stores (Fig 4)\n",
        "\n",
        "- customers who were visiting the website from 5 to 10 times a month are showing the relatively highest rejection responses (Fig 5)"
      ],
      "metadata": {
        "id": "fLNkCkERfo-L"
      }
    },
    {
      "cell_type": "code",
      "source": [
        "## lets visualize distribution of purchase with repect to Response.\n",
        "\n",
        "plots_per_row = 6\n",
        "number_of_plots = dataset_2.select_dtypes(exclude=['object']).shape[-1]\n",
        "fig, axes = plt.subplots((number_of_plots//plots_per_row)+(number_of_plots%5!=0),plots_per_row) \n",
        "\n",
        "axes = axes.flatten()\n",
        "i = 0\n",
        "for index,col in dataset_2.select_dtypes(exclude=['object']).columns.to_series().items():    \n",
        "    a = sns.histplot(data=dataset_2, x=col, hue=dataset['Response'], ax=axes[i],kde=False,bins=10)\n",
        "    i+=1\n",
        "    \n",
        "for i in range(1,len(axes)-number_of_plots+1):\n",
        "    fig.delaxes(axes[-i]) # remove empty subplot\n",
        "# plt.tight_layout()\n",
        "fig.set_figwidth(20)\n",
        "fig.set_figheight(8)\n",
        "\n",
        "plt.show()"
      ],
      "metadata": {
        "colab": {
          "base_uri": "https://localhost:8080/",
          "height": 257
        },
        "id": "arcamqYGhIvQ",
        "outputId": "8451945e-90e0-4787-9d31-7332c731b843"
      },
      "execution_count": null,
      "outputs": [
        {
          "output_type": "display_data",
          "data": {
            "image/png": "[encoded data removed]",
            "text/plain": [
              "<Figure size 1440x576 with 6 Axes>"
            ]
          },
          "metadata": {
            "needs_background": "light"
          }
        }
      ]
    },
    {
      "cell_type": "markdown",
      "source": [
        "I don't see any striking patterns from above visualizations"
      ],
      "metadata": {
        "id": "O_5fcQB_uoCZ"
      }
    },
    {
      "cell_type": "markdown",
      "source": [
        "Lets try to find positive and negative co relation between the variables based on response"
      ],
      "metadata": {
        "id": "Vp8HrI5jLIAV"
      }
    },
    {
      "cell_type": "code",
      "source": [
        "dataset_cor = dataset[['Education', 'Marital_Status', 'Income', 'percent_kids',\n",
        "       'percent_teenagers', 'Recency', 'MntWines', 'MntFruits',\n",
        "       'MntMeatProducts', 'MntFishProducts', 'MntSweetProducts',\n",
        "       'MntGoldProds', 'NumDealsPurchases', 'NumWebPurchases',\n",
        "       'NumCatalogPurchases', 'NumStorePurchases', 'NumWebVisitsMonth',\n",
        "       'AcceptedCmp3', 'AcceptedCmp4', 'AcceptedCmp5', 'AcceptedCmp1',\n",
        "       'AcceptedCmp2', 'Complain', 'n_kids', 'Days_with_company',\n",
        "       'Customer_age']]\n",
        "correlations = dataset_cor.corrwith(dataset.Response)\n",
        "correlations = correlations[correlations!=1]\n",
        "positive_correlations = correlations[\n",
        "correlations >0].sort_values(ascending = False)\n",
        "negative_correlations =correlations[\n",
        "correlations<0].sort_values(ascending = False)\n",
        "print('Most Positive Correlations: \\n', positive_correlations)\n",
        "print('\\nMost Negative Correlations: \\n', negative_correlations)"
      ],
      "metadata": {
        "colab": {
          "base_uri": "https://localhost:8080/"
        },
        "id": "VOqkFjtplBIq",
        "outputId": "3f59a4e0-5376-42b8-c832-e12a4a9f5184"
      },
      "execution_count": null,
      "outputs": [
        {
          "output_type": "stream",
          "name": "stdout",
          "text": [
            "Most Positive Correlations: \n",
            " AcceptedCmp5           0.326634\n",
            "AcceptedCmp1           0.293982\n",
            "AcceptedCmp3           0.254258\n",
            "MntWines               0.247254\n",
            "MntMeatProducts        0.236335\n",
            "NumCatalogPurchases    0.220810\n",
            "AcceptedCmp4           0.177019\n",
            "AcceptedCmp2           0.169293\n",
            "Income                 0.149774\n",
            "NumWebPurchases        0.148730\n",
            "MntGoldProds           0.139850\n",
            "MntFruits              0.125289\n",
            "MntSweetProducts       0.117372\n",
            "MntFishProducts        0.111331\n",
            "NumStorePurchases      0.039363\n",
            "NumDealsPurchases      0.002238\n",
            "dtype: float64\n",
            "\n",
            "Most Negative Correlations: \n",
            " Complain            -0.001707\n",
            "NumWebVisitsMonth   -0.003987\n",
            "Customer_age        -0.009306\n",
            "percent_kids        -0.059995\n",
            "percent_teenagers   -0.154962\n",
            "n_kids              -0.169163\n",
            "Recency             -0.198437\n",
            "dtype: float64\n"
          ]
        }
      ]
    },
    {
      "cell_type": "code",
      "source": [
        "correlations = dataset_cor.corrwith(dataset.Response)\n",
        "correlations = correlations[correlations!=1]\n",
        "correlations.plot.bar(\n",
        "        figsize = (18, 10), \n",
        "        fontsize = 8, \n",
        "        color = '#ec838a',\n",
        "        rot = 90, grid = True)\n",
        "plt.title('Correlation with Response \\n',\n",
        "horizontalalignment=\"center\", fontstyle = \"normal\", \n",
        "fontsize = \"8\", fontfamily = \"sans-serif\")"
      ],
      "metadata": {
        "colab": {
          "base_uri": "https://localhost:8080/",
          "height": 713
        },
        "id": "5oNqv_3hlWG4",
        "outputId": "cad21a15-e47c-40c2-f67c-f0653d2407aa"
      },
      "execution_count": null,
      "outputs": [
        {
          "output_type": "execute_result",
          "data": {
            "text/plain": [
              "Text(0.5, 1.0, 'Correlation with Response \\n')"
            ]
          },
          "metadata": {},
          "execution_count": 31
        },
        {
          "output_type": "display_data",
          "data": {
            "image/png": "[encoded data removed]",
            "text/plain": [
              "<Figure size 1296x720 with 1 Axes>"
            ]
          },
          "metadata": {
            "needs_background": "light"
          }
        }
      ]
    },
    {
      "cell_type": "markdown",
      "source": [
        "From the correlation plot, we infer that \n",
        "\n",
        "- most accepted campaign is Campaign 5 followed by campaign 1. \n",
        "- This can help inprove marketing strategies for business. Campaign 2 had least response.\n",
        "- As the campaigning increased, response increased\n",
        "- On the other hand, recency (i.e number of days since last purchase )increased, response decreased. \n",
        "- Interestingly , as number of kids increased, response decreased."
      ],
      "metadata": {
        "id": "ivU8pnIeLvaI"
      }
    },
    {
      "cell_type": "markdown",
      "source": [
        "# Data Evaluation"
      ],
      "metadata": {
        "id": "Ccrczn0-jlfC"
      }
    },
    {
      "cell_type": "markdown",
      "source": [
        "**Label Encode Categorical data**:\n",
        "\n",
        "Machine Learning algorithms can typically only have numerical values as their independent variables. Hence label encoding is quite pivotal as they encode categorical labels with appropriate numerical values. Here we are label encoding all categorical variables."
      ],
      "metadata": {
        "id": "T3GC8QfCrYwf"
      }
    },
    {
      "cell_type": "code",
      "source": [
        "#Create a label encoder object\n",
        "le = LabelEncoder()\n",
        "# Label Encoding will be used for columns with 2 or less unique values\n",
        "le_count = 0\n",
        "print(\"Columns encoded\")\n",
        "for col in dataset.columns[1:]:\n",
        "    if dataset[col].dtype == 'object':\n",
        "            le.fit(dataset[col])\n",
        "            dataset[col] = le.transform(dataset[col])\n",
        "            le_count += 1\n",
        "            print(col)\n",
        "print('{} columns were label encoded.'.format(le_count))"
      ],
      "metadata": {
        "colab": {
          "base_uri": "https://localhost:8080/"
        },
        "id": "tkmzkmNkrZVD",
        "outputId": "caff0fbc-6144-47fd-f1c7-e2ca8a45b65b"
      },
      "execution_count": null,
      "outputs": [
        {
          "output_type": "stream",
          "name": "stdout",
          "text": [
            "Columns encoded\n",
            "Education\n",
            "Marital_Status\n",
            "2 columns were label encoded.\n"
          ]
        }
      ]
    },
    {
      "cell_type": "code",
      "source": [
        "# Encoding Days with company using fit_transform\n",
        "le = LabelEncoder()\n",
        "dataset['Days_with_company'] = le.fit_transform(dataset['Days_with_company'])\n",
        "print(dataset[\"Days_with_company\"].unique())"
      ],
      "metadata": {
        "colab": {
          "base_uri": "https://localhost:8080/"
        },
        "id": "6yJqY41xwvGf",
        "outputId": "11996881-b77e-4f6f-9795-8a0cbcae9d5b"
      },
      "execution_count": null,
      "outputs": [
        {
          "output_type": "stream",
          "name": "stdout",
          "text": [
            "[0 1 3 2]\n"
          ]
        }
      ]
    },
    {
      "cell_type": "markdown",
      "source": [
        "Lets Check with the encoded values"
      ],
      "metadata": {
        "id": "iA3YGbS_rqWY"
      }
    },
    {
      "cell_type": "code",
      "source": [
        "print(\"\\nNumber of unique values in Education of dataset : \", dataset[\"Education\"].nunique())\n",
        "print(\"Different Education  : \\n\", dataset[\"Education\"].unique())\n",
        "\n",
        "print(\"\\nNumber of unique values in Marital_Status of dataset : \", dataset[\"Marital_Status\"].nunique())\n",
        "print(\"Different Marital_Status  : \\n\", dataset[\"Marital_Status\"].unique())\n",
        "\n",
        "print(\"\\nNumber of unique values in Days_with_company of dataset : \", dataset[\"Days_with_company\"].nunique())\n",
        "print(\"Different Days_with_company  : \\n\", dataset[\"Days_with_company\"].unique())"
      ],
      "metadata": {
        "colab": {
          "base_uri": "https://localhost:8080/"
        },
        "id": "UPEs8aP0rqmJ",
        "outputId": "37b6d6a9-bd8a-4c1c-d9fe-3da9cb5be26d"
      },
      "execution_count": null,
      "outputs": [
        {
          "output_type": "stream",
          "name": "stdout",
          "text": [
            "\n",
            "Number of unique values in Education of dataset :  5\n",
            "Different Education  : \n",
            " [2 4 3 1 0]\n",
            "\n",
            "Number of unique values in Marital_Status of dataset :  5\n",
            "Different Marital_Status  : \n",
            " [3 1 2 0 4]\n",
            "\n",
            "Number of unique values in Days_with_company of dataset :  4\n",
            "Different Days_with_company  : \n",
            " [0 1 3 2]\n"
          ]
        }
      ]
    },
    {
      "cell_type": "markdown",
      "source": [
        "**Split the dataset into dependent and independent variables**:\n",
        "\n",
        "Now we need to separate the dataset into X and y values. y would be the Response column while X would be the remaining list of independent variables in the dataset."
      ],
      "metadata": {
        "id": "ceRvMtAsoUCe"
      }
    },
    {
      "cell_type": "code",
      "source": [
        "#Identify target variable:\n",
        "    \n",
        "target = dataset[\"Response\"]\n",
        "dataset = dataset.drop(columns=\"Response\")"
      ],
      "metadata": {
        "id": "_eHhBxW0oPX_"
      },
      "execution_count": null,
      "outputs": []
    },
    {
      "cell_type": "markdown",
      "source": [
        "Generate training and test datasets: Let’s decouple the master dataset into training and test set with an 80%-20% ratio."
      ],
      "metadata": {
        "id": "HPz_uvS2ohAc"
      }
    },
    {
      "cell_type": "code",
      "source": [
        "X_train, X_test, y_train, y_test = train_test_split(dataset, target,stratify=target, test_size = 0.2, random_state = 0)\n",
        "#to resolve any class imbalance - use stratify parameter.\n",
        "print(\"Number transactions X_train dataset: \", X_train.shape)\n",
        "print(\"Number transactions y_train dataset: \", y_train.shape)\n",
        "print(\"Number transactions X_test dataset: \", X_test.shape)\n",
        "print(\"Number transactions y_test dataset: \", y_test.shape)"
      ],
      "metadata": {
        "colab": {
          "base_uri": "https://localhost:8080/"
        },
        "id": "Cbvx0b9Dof4z",
        "outputId": "1ae27968-f9bf-429a-e80e-1315f013e179"
      },
      "execution_count": null,
      "outputs": [
        {
          "output_type": "stream",
          "name": "stdout",
          "text": [
            "Number transactions X_train dataset:  (1792, 27)\n",
            "Number transactions y_train dataset:  (1792,)\n",
            "Number transactions X_test dataset:  (448, 27)\n",
            "Number transactions y_test dataset:  (448,)\n"
          ]
        }
      ]
    },
    {
      "cell_type": "code",
      "source": [
        "# Remove Identifiers: Separate ‘customerID’ from training and test data frames.\n",
        "train_identity = X_train['ID']\n",
        "X_train = X_train.drop(columns = ['ID'])\n",
        "test_identity = X_test['ID']\n",
        "X_test = X_test.drop(columns = ['ID'])"
      ],
      "metadata": {
        "id": "1dAnSH7XDwmi"
      },
      "execution_count": null,
      "outputs": []
    },
    {
      "cell_type": "code",
      "source": [
        "dataset.head()"
      ],
      "metadata": {
        "colab": {
          "base_uri": "https://localhost:8080/",
          "height": 226
        },
        "id": "duuMrHDawNk2",
        "outputId": "a4ad3a8a-483f-40b2-cfc2-2f42a02cf9a6"
      },
      "execution_count": null,
      "outputs": [
        {
          "output_type": "execute_result",
          "data": {
            "text/html": [
              "<div>\n",
              "<style scoped>\n",
              "    .dataframe tbody tr th:only-of-type {\n",
              "        vertical-align: middle;\n",
              "    }\n",
              "\n",
              "    .dataframe tbody tr th {\n",
              "        vertical-align: top;\n",
              "    }\n",
              "\n",
              "    .dataframe thead th {\n",
              "        text-align: right;\n",
              "    }\n",
              "</style>\n",
              "<table border=\"1\" class=\"dataframe\">\n",
              "  <thead>\n",
              "    <tr style=\"text-align: right;\">\n",
              "      <th></th>\n",
              "      <th>ID</th>\n",
              "      <th>Education</th>\n",
              "      <th>Marital_Status</th>\n",
              "      <th>Income</th>\n",
              "      <th>percent_kids</th>\n",
              "      <th>percent_teenagers</th>\n",
              "      <th>Recency</th>\n",
              "      <th>MntWines</th>\n",
              "      <th>MntFruits</th>\n",
              "      <th>MntMeatProducts</th>\n",
              "      <th>MntFishProducts</th>\n",
              "      <th>MntSweetProducts</th>\n",
              "      <th>MntGoldProds</th>\n",
              "      <th>NumDealsPurchases</th>\n",
              "      <th>NumWebPurchases</th>\n",
              "      <th>NumCatalogPurchases</th>\n",
              "      <th>NumStorePurchases</th>\n",
              "      <th>NumWebVisitsMonth</th>\n",
              "      <th>AcceptedCmp3</th>\n",
              "      <th>AcceptedCmp4</th>\n",
              "      <th>AcceptedCmp5</th>\n",
              "      <th>AcceptedCmp1</th>\n",
              "      <th>AcceptedCmp2</th>\n",
              "      <th>Complain</th>\n",
              "      <th>n_kids</th>\n",
              "      <th>Days_with_company</th>\n",
              "      <th>Customer_age</th>\n",
              "    </tr>\n",
              "  </thead>\n",
              "  <tbody>\n",
              "    <tr>\n",
              "      <th>0</th>\n",
              "      <td>5524</td>\n",
              "      <td>2</td>\n",
              "      <td>3</td>\n",
              "      <td>2</td>\n",
              "      <td>0.0</td>\n",
              "      <td>0.0</td>\n",
              "      <td>58</td>\n",
              "      <td>635</td>\n",
              "      <td>88</td>\n",
              "      <td>546</td>\n",
              "      <td>172</td>\n",
              "      <td>88</td>\n",
              "      <td>88</td>\n",
              "      <td>3</td>\n",
              "      <td>8</td>\n",
              "      <td>10</td>\n",
              "      <td>4</td>\n",
              "      <td>7</td>\n",
              "      <td>0</td>\n",
              "      <td>0</td>\n",
              "      <td>0</td>\n",
              "      <td>0</td>\n",
              "      <td>0</td>\n",
              "      <td>0</td>\n",
              "      <td>0</td>\n",
              "      <td>0</td>\n",
              "      <td>4</td>\n",
              "    </tr>\n",
              "    <tr>\n",
              "      <th>1</th>\n",
              "      <td>2174</td>\n",
              "      <td>2</td>\n",
              "      <td>3</td>\n",
              "      <td>2</td>\n",
              "      <td>50.0</td>\n",
              "      <td>50.0</td>\n",
              "      <td>38</td>\n",
              "      <td>11</td>\n",
              "      <td>1</td>\n",
              "      <td>6</td>\n",
              "      <td>2</td>\n",
              "      <td>1</td>\n",
              "      <td>6</td>\n",
              "      <td>2</td>\n",
              "      <td>1</td>\n",
              "      <td>1</td>\n",
              "      <td>2</td>\n",
              "      <td>5</td>\n",
              "      <td>0</td>\n",
              "      <td>0</td>\n",
              "      <td>0</td>\n",
              "      <td>0</td>\n",
              "      <td>0</td>\n",
              "      <td>0</td>\n",
              "      <td>2</td>\n",
              "      <td>1</td>\n",
              "      <td>4</td>\n",
              "    </tr>\n",
              "    <tr>\n",
              "      <th>2</th>\n",
              "      <td>4141</td>\n",
              "      <td>2</td>\n",
              "      <td>1</td>\n",
              "      <td>3</td>\n",
              "      <td>0.0</td>\n",
              "      <td>0.0</td>\n",
              "      <td>26</td>\n",
              "      <td>426</td>\n",
              "      <td>49</td>\n",
              "      <td>127</td>\n",
              "      <td>111</td>\n",
              "      <td>21</td>\n",
              "      <td>42</td>\n",
              "      <td>1</td>\n",
              "      <td>8</td>\n",
              "      <td>2</td>\n",
              "      <td>10</td>\n",
              "      <td>4</td>\n",
              "      <td>0</td>\n",
              "      <td>0</td>\n",
              "      <td>0</td>\n",
              "      <td>0</td>\n",
              "      <td>0</td>\n",
              "      <td>0</td>\n",
              "      <td>0</td>\n",
              "      <td>3</td>\n",
              "      <td>3</td>\n",
              "    </tr>\n",
              "    <tr>\n",
              "      <th>3</th>\n",
              "      <td>6182</td>\n",
              "      <td>2</td>\n",
              "      <td>1</td>\n",
              "      <td>0</td>\n",
              "      <td>100.0</td>\n",
              "      <td>0.0</td>\n",
              "      <td>26</td>\n",
              "      <td>11</td>\n",
              "      <td>4</td>\n",
              "      <td>20</td>\n",
              "      <td>10</td>\n",
              "      <td>3</td>\n",
              "      <td>5</td>\n",
              "      <td>2</td>\n",
              "      <td>2</td>\n",
              "      <td>0</td>\n",
              "      <td>4</td>\n",
              "      <td>6</td>\n",
              "      <td>0</td>\n",
              "      <td>0</td>\n",
              "      <td>0</td>\n",
              "      <td>0</td>\n",
              "      <td>0</td>\n",
              "      <td>0</td>\n",
              "      <td>1</td>\n",
              "      <td>1</td>\n",
              "      <td>1</td>\n",
              "    </tr>\n",
              "    <tr>\n",
              "      <th>4</th>\n",
              "      <td>5324</td>\n",
              "      <td>4</td>\n",
              "      <td>2</td>\n",
              "      <td>3</td>\n",
              "      <td>100.0</td>\n",
              "      <td>0.0</td>\n",
              "      <td>94</td>\n",
              "      <td>173</td>\n",
              "      <td>43</td>\n",
              "      <td>118</td>\n",
              "      <td>46</td>\n",
              "      <td>27</td>\n",
              "      <td>15</td>\n",
              "      <td>5</td>\n",
              "      <td>5</td>\n",
              "      <td>3</td>\n",
              "      <td>6</td>\n",
              "      <td>5</td>\n",
              "      <td>0</td>\n",
              "      <td>0</td>\n",
              "      <td>0</td>\n",
              "      <td>0</td>\n",
              "      <td>0</td>\n",
              "      <td>0</td>\n",
              "      <td>1</td>\n",
              "      <td>1</td>\n",
              "      <td>1</td>\n",
              "    </tr>\n",
              "  </tbody>\n",
              "</table>\n",
              "</div>"
            ],
            "text/plain": [
              "     ID  Education  Marital_Status  ...  n_kids  Days_with_company  Customer_age\n",
              "0  5524          2               3  ...       0                  0             4\n",
              "1  2174          2               3  ...       2                  1             4\n",
              "2  4141          2               1  ...       0                  3             3\n",
              "3  6182          2               1  ...       1                  1             1\n",
              "4  5324          4               2  ...       1                  1             1\n",
              "\n",
              "[5 rows x 27 columns]"
            ]
          },
          "metadata": {},
          "execution_count": 38
        }
      ]
    },
    {
      "cell_type": "markdown",
      "source": [
        "**Conduct Feature Scaling**:\n",
        "\n",
        "It’s quite important to normalize the variables before conducting any machine learning (classification) algorithms so that all the training and test variables are scaled within a range of 0 to 1."
      ],
      "metadata": {
        "id": "gM9g3Huootux"
      }
    },
    {
      "cell_type": "code",
      "source": [
        "from sklearn.preprocessing import StandardScaler\n",
        "sc_X = StandardScaler()\n",
        "\n",
        "X_train2 = pd.DataFrame(sc_X.fit_transform(X_train))\n",
        "X_train2.columns = X_train.columns.values\n",
        "X_train2.index = X_train.index.values\n",
        "X_train = X_train2\n",
        "\n",
        "X_test2 = pd.DataFrame(sc_X.transform(X_test))\n",
        "X_test2.columns = X_test.columns.values\n",
        "X_test2.index = X_test.index.values\n",
        "X_test = X_test2"
      ],
      "metadata": {
        "id": "XGi20euZonkw"
      },
      "execution_count": null,
      "outputs": []
    },
    {
      "cell_type": "markdown",
      "source": [
        "# Model Selection"
      ],
      "metadata": {
        "id": "bHj5u3Kt2FPY"
      }
    },
    {
      "cell_type": "markdown",
      "source": [
        "**Compare Baseline Classification Algorithms (1st Iteration)**:\n",
        "\n",
        "Let’s model each classification algorithm over the training dataset and evaluate their accuracy and standard deviation scores. Classification Accuracy is one of the most common classification evaluation metrics to compare baseline algorithms as its the number of correct predictions made as a ratio of total predictions. However, it's not the ideal metric when we have class imbalance issue. Hence, let us sort the results based on the ‘Mean AUC’ value which is nothing but the model’s ability to discriminate between positive and negative classes."
      ],
      "metadata": {
        "id": "nyFhm1rv2MOW"
      }
    },
    {
      "cell_type": "code",
      "source": [
        "models = []\n",
        "models.append(('Logistic Regression', LogisticRegression(solver='liblinear', random_state = 0,class_weight='balanced')))\n",
        "models.append(('SVC', SVC(kernel = 'linear', random_state = 0)))\n",
        "models.append(('Kernel SVM', SVC(kernel = 'rbf', random_state = 0)))\n",
        "models.append(('KNN', KNeighborsClassifier(n_neighbors = 5, metric = 'minkowski', p = 2)))\n",
        "models.append(('Gaussian NB', GaussianNB()))\n",
        "models.append(('Decision Tree Classifier',DecisionTreeClassifier(criterion = 'entropy', random_state = 0)))\n",
        "models.append(('Random Forest', RandomForestClassifier(n_estimators=100, criterion = 'entropy', random_state = 0)))"
      ],
      "metadata": {
        "id": "5s4JwF6a2H4h"
      },
      "execution_count": null,
      "outputs": []
    },
    {
      "cell_type": "code",
      "source": [
        "from sklearn.model_selection import cross_val_score\n",
        "from sklearn.model_selection import ParameterGrid, RandomizedSearchCV\n",
        "from sklearn.model_selection import GridSearchCV\n",
        "from sklearn.model_selection import ShuffleSplit\n",
        "from sklearn.model_selection import KFold\n",
        "from sklearn import model_selection\n",
        "\n",
        "#Evaluating Model Results:\n",
        "acc_results = []\n",
        "auc_results = []\n",
        "names = []\n",
        "\n",
        "# set table to table to populate with performance results\n",
        "col = ['Algorithm', 'ROC AUC Mean', 'ROC AUC STD', 'Accuracy Mean', 'Accuracy STD']\n",
        "model_results = pd.DataFrame(columns=col)\n",
        "i = 0\n",
        "\n",
        "# Evaluate each model using k-fold cross-validation:\n",
        "for name, model in models:\n",
        "    kfold = model_selection.KFold(n_splits=10, random_state=None)\n",
        "    # accuracy scoring:\n",
        "    cv_acc_results = model_selection.cross_val_score( model, X_train, y_train, cv=kfold, scoring='accuracy')\n",
        "    # roc_auc scoring:\n",
        "    cv_auc_results = model_selection.cross_val_score( model, X_train, y_train, cv=kfold, scoring='roc_auc')\n",
        "    acc_results.append(cv_acc_results)\n",
        "    auc_results.append(cv_auc_results)\n",
        "    names.append(name)\n",
        "    model_results.loc[i] = [name,\n",
        "                         round(cv_auc_results.mean()*100, 2),\n",
        "                         round(cv_auc_results.std()*100, 2),\n",
        "                         round(cv_acc_results.mean()*100, 2),\n",
        "                         round(cv_acc_results.std()*100, 2)\n",
        "                         ]\n",
        "    i += 1"
      ],
      "metadata": {
        "id": "YrGOWWp92fpE"
      },
      "execution_count": null,
      "outputs": []
    },
    {
      "cell_type": "markdown",
      "source": [
        "AUC Score helps to analyze models ability to predict positive or negative classes."
      ],
      "metadata": {
        "id": "vuS4OM8cNW5n"
      }
    },
    {
      "cell_type": "code",
      "source": [
        "model_results.sort_values(by=['ROC AUC Mean'], ascending=False)"
      ],
      "metadata": {
        "colab": {
          "base_uri": "https://localhost:8080/",
          "height": 269
        },
        "id": "VGbetWUk4JyZ",
        "outputId": "537cf891-f9c1-404b-c3a5-31ae43c20ce2"
      },
      "execution_count": null,
      "outputs": [
        {
          "output_type": "execute_result",
          "data": {
            "text/html": [
              "<div>\n",
              "<style scoped>\n",
              "    .dataframe tbody tr th:only-of-type {\n",
              "        vertical-align: middle;\n",
              "    }\n",
              "\n",
              "    .dataframe tbody tr th {\n",
              "        vertical-align: top;\n",
              "    }\n",
              "\n",
              "    .dataframe thead th {\n",
              "        text-align: right;\n",
              "    }\n",
              "</style>\n",
              "<table border=\"1\" class=\"dataframe\">\n",
              "  <thead>\n",
              "    <tr style=\"text-align: right;\">\n",
              "      <th></th>\n",
              "      <th>Algorithm</th>\n",
              "      <th>ROC AUC Mean</th>\n",
              "      <th>ROC AUC STD</th>\n",
              "      <th>Accuracy Mean</th>\n",
              "      <th>Accuracy STD</th>\n",
              "    </tr>\n",
              "  </thead>\n",
              "  <tbody>\n",
              "    <tr>\n",
              "      <th>6</th>\n",
              "      <td>Random Forest</td>\n",
              "      <td>89.38</td>\n",
              "      <td>4.32</td>\n",
              "      <td>88.34</td>\n",
              "      <td>1.67</td>\n",
              "    </tr>\n",
              "    <tr>\n",
              "      <th>2</th>\n",
              "      <td>Kernel SVM</td>\n",
              "      <td>88.19</td>\n",
              "      <td>3.88</td>\n",
              "      <td>87.61</td>\n",
              "      <td>1.79</td>\n",
              "    </tr>\n",
              "    <tr>\n",
              "      <th>0</th>\n",
              "      <td>Logistic Regression</td>\n",
              "      <td>87.41</td>\n",
              "      <td>5.53</td>\n",
              "      <td>81.19</td>\n",
              "      <td>3.33</td>\n",
              "    </tr>\n",
              "    <tr>\n",
              "      <th>1</th>\n",
              "      <td>SVC</td>\n",
              "      <td>86.61</td>\n",
              "      <td>5.75</td>\n",
              "      <td>87.78</td>\n",
              "      <td>2.12</td>\n",
              "    </tr>\n",
              "    <tr>\n",
              "      <th>4</th>\n",
              "      <td>Gaussian NB</td>\n",
              "      <td>79.26</td>\n",
              "      <td>4.76</td>\n",
              "      <td>79.51</td>\n",
              "      <td>9.16</td>\n",
              "    </tr>\n",
              "    <tr>\n",
              "      <th>3</th>\n",
              "      <td>KNN</td>\n",
              "      <td>78.62</td>\n",
              "      <td>4.36</td>\n",
              "      <td>87.61</td>\n",
              "      <td>2.26</td>\n",
              "    </tr>\n",
              "    <tr>\n",
              "      <th>5</th>\n",
              "      <td>Decision Tree Classifier</td>\n",
              "      <td>69.56</td>\n",
              "      <td>4.09</td>\n",
              "      <td>84.99</td>\n",
              "      <td>2.34</td>\n",
              "    </tr>\n",
              "  </tbody>\n",
              "</table>\n",
              "</div>"
            ],
            "text/plain": [
              "                  Algorithm  ROC AUC Mean  ...  Accuracy Mean  Accuracy STD\n",
              "6             Random Forest         89.38  ...          88.34          1.67\n",
              "2                Kernel SVM         88.19  ...          87.61          1.79\n",
              "0       Logistic Regression         87.41  ...          81.19          3.33\n",
              "1                       SVC         86.61  ...          87.78          2.12\n",
              "4               Gaussian NB         79.26  ...          79.51          9.16\n",
              "3                       KNN         78.62  ...          87.61          2.26\n",
              "5  Decision Tree Classifier         69.56  ...          84.99          2.34\n",
              "\n",
              "[7 rows x 5 columns]"
            ]
          },
          "metadata": {},
          "execution_count": 42
        }
      ]
    },
    {
      "cell_type": "markdown",
      "source": [
        "Here we can see that random forest worked well(AUC score - 89%). But other three models are also close with 88%."
      ],
      "metadata": {
        "id": "UFWOg2JkNiGy"
      }
    },
    {
      "cell_type": "markdown",
      "source": [
        "Visualize Classification Algorithms Accuracy Comparisons: Using Accuracy Mean:"
      ],
      "metadata": {
        "id": "f9oWGebO4QeM"
      }
    },
    {
      "cell_type": "code",
      "source": [
        "fig = plt.figure(figsize=(15, 7))\n",
        "ax = fig.add_subplot(111)\n",
        "plt.boxplot(acc_results)\n",
        "ax.set_xticklabels(names)\n",
        "plt.show()"
      ],
      "metadata": {
        "colab": {
          "base_uri": "https://localhost:8080/",
          "height": 428
        },
        "id": "KF1o3qQd4SAV",
        "outputId": "645d36e2-6633-4d59-8abe-be1eb0fda5d8"
      },
      "execution_count": null,
      "outputs": [
        {
          "output_type": "display_data",
          "data": {
            "image/png": "[encoded data removed]",
            "text/plain": [
              "<Figure size 1080x504 with 1 Axes>"
            ]
          },
          "metadata": {
            "needs_background": "light"
          }
        }
      ]
    },
    {
      "cell_type": "markdown",
      "source": [
        "Visualize classification algorithms using AUC Mean:\n",
        "\n"
      ],
      "metadata": {
        "id": "_ASyr8ol4eEe"
      }
    },
    {
      "cell_type": "code",
      "source": [
        "fig = plt.figure(figsize=(15, 7))\n",
        "ax = fig.add_subplot(111)\n",
        "plt.boxplot(auc_results)\n",
        "ax.set_xticklabels(names)\n",
        "plt.show()"
      ],
      "metadata": {
        "colab": {
          "base_uri": "https://localhost:8080/",
          "height": 428
        },
        "id": "e7Hnz3PU4f4y",
        "outputId": "70067178-f1de-4d94-c30f-689d3ebf4a7e"
      },
      "execution_count": null,
      "outputs": [
        {
          "output_type": "display_data",
          "data": {
            "image/png": "[encoded data removed]",
            "text/plain": [
              "<Figure size 1080x504 with 1 Axes>"
            ]
          },
          "metadata": {
            "needs_background": "light"
          }
        }
      ]
    },
    {
      "cell_type": "markdown",
      "source": [
        "In the second iteration Kernel SVM worked well."
      ],
      "metadata": {
        "id": "Pgk8gdMBOWho"
      }
    },
    {
      "cell_type": "markdown",
      "source": [
        "From the first iteration of baseline classification algorithms, we can see that Random Forest and SVM have outperformed the other five models for the chosen dataset with the highest mean AUC Scores. Let’s reconfirm our results in the second iteration as shown in the next steps."
      ],
      "metadata": {
        "id": "0VNDoAZMwRcl"
      }
    },
    {
      "cell_type": "markdown",
      "source": [
        "**Compare Baseline Classification Algorithms (2nd Iteration):**\n",
        "\n",
        " We know that false negatives are more costly than false positives in a response and hence let’s use precision, recall and F2 scores as the ideal metric for the model selection."
      ],
      "metadata": {
        "id": "oxX8tG7s6IsF"
      }
    },
    {
      "cell_type": "code",
      "source": [
        "classifiers = []\n",
        "classifiers.append(('Logistic Regression', LogisticRegression(random_state = 0)))\n",
        "classifiers.append(('SVC', SVC(kernel = 'linear', random_state = 0)))\n",
        "classifiers.append(('Kernel SVM', SVC(kernel = 'rbf', random_state = 0)))\n",
        "classifiers.append(('KNN', KNeighborsClassifier(n_neighbors = 29, metric = 'minkowski', p = 2)))\n",
        "classifiers.append(('Gaussian NB', GaussianNB()))\n",
        "classifiers.append(('Decision Tree Classifier', DecisionTreeClassifier(criterion = 'entropy', random_state = 0)))\n",
        "classifiers.append(('Random Forest', RandomForestClassifier(n_estimators = 72, criterion = 'entropy', random_state = 0)))"
      ],
      "metadata": {
        "id": "253qsH7pwrL-"
      },
      "execution_count": null,
      "outputs": []
    },
    {
      "cell_type": "code",
      "source": [
        "#Evaluating Model Results:\n",
        "accuracy = []\n",
        "precision = []\n",
        "recall = []\n",
        "f2_score = []\n",
        "names = []\n",
        "\n",
        "# set table to table to populate with performance results\n",
        "col = ['Classifier', 'Accuracy', 'Precision', 'Recall', 'F2 Score']\n",
        "classifier_results = pd.DataFrame(columns=col)\n",
        "i = 0\n",
        "\n",
        "# Evaluate each model:\n",
        "for name, classifier in classifiers:\n",
        "\n",
        "    # Fitting Logistic Regression to the Training set\n",
        "    classifier.fit(X_train, y_train)\n",
        "\n",
        "    # Predicting the Test set results\n",
        "    y_pred = classifier.predict(X_test)\n",
        "\n",
        "    #Evaluate results\n",
        "    acc = accuracy_score(y_test, y_pred )\n",
        "    prec = precision_score(y_test, y_pred )\n",
        "    rec = recall_score(y_test, y_pred )\n",
        "    f2 = fbeta_score(y_test, y_pred, beta=2.0)\n",
        "\n",
        "\n",
        "    accuracy.append(acc)\n",
        "    precision.append(prec)\n",
        "    recall.append(rec)\n",
        "    f2_score.append(f2)\n",
        "    names.append(name)\n",
        "\n",
        "    classifier_results.loc[i] = [name,\n",
        "                         round(acc*100, 2),\n",
        "                         round(prec*100, 2),\n",
        "                         round(rec*100, 2),\n",
        "                         round(f2*100, 2)\n",
        "                         ]\n",
        "    i += 1"
      ],
      "metadata": {
        "id": "nqRKFMZowsT8"
      },
      "execution_count": null,
      "outputs": []
    },
    {
      "cell_type": "code",
      "source": [
        "# View second iteration classifier results\n",
        "classifier_results = classifier_results.sort_values([\"Precision\", \"Recall\", \"F2 Score\"], ascending = False)\n",
        "print(classifier_results)"
      ],
      "metadata": {
        "colab": {
          "base_uri": "https://localhost:8080/"
        },
        "id": "mKqKiWyQxAFL",
        "outputId": "5641ffc2-f603-4927-fb40-8cbc85ef951b"
      },
      "execution_count": null,
      "outputs": [
        {
          "output_type": "stream",
          "name": "stdout",
          "text": [
            "                 Classifier  Accuracy  Precision  Recall  F2 Score\n",
            "2                Kernel SVM     88.39      82.61   28.36     32.65\n",
            "3                       KNN     87.28      81.25   19.40     22.89\n",
            "6             Random Forest     88.39      72.73   35.82     39.87\n",
            "1                       SVC     88.17      71.88   34.33     38.33\n",
            "0       Logistic Regression     88.39      69.23   40.30     43.97\n",
            "5  Decision Tree Classifier     83.26      44.29   46.27     45.86\n",
            "4               Gaussian NB     78.35      35.00   52.24     47.55\n"
          ]
        }
      ]
    },
    {
      "cell_type": "markdown",
      "source": [
        "From the 2nd iteration, we can definitely conclude that Kernel SVM is an optimal model of choice for the given dataset as it has relatively the highest combination of precision, recall and F2 scores; giving most number of correct positive predictions while minimizing the false negatives. Hence, let's try to use Kernel SVM and evaluate its performance in the forthcoming sections."
      ],
      "metadata": {
        "id": "dYDXjF0exfFQ"
      }
    },
    {
      "cell_type": "markdown",
      "source": [
        "# Model Evaluation"
      ],
      "metadata": {
        "id": "O1WJcJov81aW"
      }
    },
    {
      "cell_type": "markdown",
      "source": [
        "Train & evaluate Chosen Model: Let’s fit the selected model (Kernel SVM in this case) on the training dataset and evaluate the results."
      ],
      "metadata": {
        "id": "cVKyPVOe83-M"
      }
    },
    {
      "cell_type": "code",
      "source": [
        "classifier = SVC(kernel = 'rbf', random_state = 0)\n",
        "classifier.fit(X_train, y_train)\n",
        "\n",
        "# Predicting the Test set results \n",
        "y_pred = classifier.predict(X_test)\n",
        "\n",
        "\n",
        "#Evaluate results\n",
        "acc = accuracy_score(y_test, y_pred )\n",
        "prec = precision_score(y_test, y_pred )\n",
        "rec = recall_score(y_test, y_pred )\n",
        "f1 = f1_score(y_test, y_pred )\n",
        "f2 = fbeta_score(y_test, y_pred, beta=2.0)\n",
        "results = pd.DataFrame([['Kernel SVM', round(acc*100,2), round(prec*100,2), round(rec*100,2), round(f1*100,2), round(f2*100,2)]], columns = ['Model', 'Accuracy', 'Precision', 'Recall', 'F1 Score', 'F2 Score'])\n",
        "print (results)"
      ],
      "metadata": {
        "colab": {
          "base_uri": "https://localhost:8080/"
        },
        "id": "6QdOTaGM8K80",
        "outputId": "bc780124-00b6-4e3f-96ad-0e0fb98fc353"
      },
      "execution_count": null,
      "outputs": [
        {
          "output_type": "stream",
          "name": "stdout",
          "text": [
            "        Model  Accuracy  Precision  Recall  F1 Score  F2 Score\n",
            "0  Kernel SVM     88.39      82.61   28.36     42.22     32.65\n"
          ]
        }
      ]
    },
    {
      "cell_type": "code",
      "source": [
        "print(\"Accuracy of Kernel SVM Model in percentage - \", acc*100)"
      ],
      "metadata": {
        "colab": {
          "base_uri": "https://localhost:8080/"
        },
        "id": "UEx2kyJEPLpo",
        "outputId": "3a70e952-e212-44d3-ff0c-82b95f8083ba"
      },
      "execution_count": null,
      "outputs": [
        {
          "output_type": "stream",
          "name": "stdout",
          "text": [
            "Accuracy of Kernel SVM Model in percentage -  88.39285714285714\n"
          ]
        }
      ]
    },
    {
      "cell_type": "code",
      "source": [
        "accuracies = cross_val_score(estimator = classifier,X = X_train, y = y_train, cv = 10)\n",
        "print(\"Kernel SVM Classifier Accuracy: %0.2f (+/- %0.2f)\"  % (accuracies.mean(), accuracies.std() * 2))"
      ],
      "metadata": {
        "colab": {
          "base_uri": "https://localhost:8080/"
        },
        "id": "CPqdjmL89Hy3",
        "outputId": "c7341b76-bb0b-4763-ac99-30b259ada86b"
      },
      "execution_count": null,
      "outputs": [
        {
          "output_type": "stream",
          "name": "stdout",
          "text": [
            "Kernel SVM Classifier Accuracy: 0.87 (+/- 0.03)\n"
          ]
        }
      ]
    },
    {
      "cell_type": "markdown",
      "source": [
        "Our Cross Validation results indicate that we would have an accuracy anywhere between 85% to 91% while running this model on any test set."
      ],
      "metadata": {
        "id": "bH6LKCdh9RZK"
      }
    },
    {
      "cell_type": "markdown",
      "source": [
        "# Future Predictions"
      ],
      "metadata": {
        "id": "0jBb4djL07U3"
      }
    },
    {
      "cell_type": "markdown",
      "source": [
        "Visualize results on a Confusion Matrix: \n"
      ],
      "metadata": {
        "id": "EPM7KDPG9aBJ"
      }
    },
    {
      "cell_type": "code",
      "source": [
        "# Revalidate final results with Confusion Matrix:\n",
        "cm = confusion_matrix(y_test, y_pred) \n",
        "print (cm)\n",
        "\n",
        "# Confusion Matrix as a quick Crosstab:\n",
        "pd.crosstab(y_test,pd.Series(y_pred), rownames=['ACTUAL'],colnames=['PRED'])\n",
        "\n",
        "# visualize Confusion Matrix:\n",
        "cm = confusion_matrix(y_test, y_pred) \n",
        "df_cm = pd.DataFrame(cm, index = (0, 1), columns = (0, 1))\n",
        "plt.figure(figsize = (28,20))\n",
        "fig, ax = plt.subplots()\n",
        "sns.set(font_scale=1.4)\n",
        "sns.heatmap(df_cm, annot=True, fmt='g',cmap=\"YlGnBu\")\n",
        "class_names=[0,1]\n",
        "tick_marks = np.arange(len(class_names))\n",
        "plt.tight_layout()\n",
        "plt.title('Confusion matrix\\n', y=1.1)\n",
        "plt.xticks(tick_marks, class_names)\n",
        "plt.yticks(tick_marks, class_names)\n",
        "ax.xaxis.set_label_position(\"top\")\n",
        "plt.ylabel('Actual label\\n')\n",
        "plt.xlabel('Predicted label\\n')\n",
        "print(\"Test Data Accuracy: %0.4f\" % accuracy_score(y_test, y_pred))"
      ],
      "metadata": {
        "colab": {
          "base_uri": "https://localhost:8080/",
          "height": 417
        },
        "id": "SUeLlkq79QWb",
        "outputId": "4596fbfd-735c-4538-cc21-5ecd065d941f"
      },
      "execution_count": null,
      "outputs": [
        {
          "output_type": "stream",
          "name": "stdout",
          "text": [
            "[[377   4]\n",
            " [ 48  19]]\n",
            "Test Data Accuracy: 0.8839\n"
          ]
        },
        {
          "output_type": "display_data",
          "data": {
            "text/plain": [
              "<Figure size 2016x1440 with 0 Axes>"
            ]
          },
          "metadata": {}
        },
        {
          "output_type": "display_data",
          "data": {
            "image/png": "[encoded data removed]",
            "text/plain": [
              "<Figure size 432x288 with 2 Axes>"
            ]
          },
          "metadata": {
            "needs_background": "light"
          }
        }
      ]
    },
    {
      "cell_type": "markdown",
      "source": [
        "\n",
        "The Confusion matrix indicates that we have 377+19 correct predictions and 48+4 incorrect predictions. \n",
        "\n",
        "Accuracy rate = number of correct predictions/ total predictions * 100 \n",
        "\n",
        "Error rate = Number of wrong predictions / total predictions * 100 \n",
        "\n",
        "We have got an accuracy of 89%; signalling the characteristics of a reasonably good model."
      ],
      "metadata": {
        "id": "9OssBbkb0SS5"
      }
    },
    {
      "cell_type": "markdown",
      "source": [
        "Lets check our final results by comapring response to previous campaign with our predicted response."
      ],
      "metadata": {
        "id": "8GKD4lHw0Lxz"
      }
    },
    {
      "cell_type": "code",
      "source": [
        "final_results = pd.concat([test_identity, y_test], axis = 1).dropna()\n",
        "final_results['predictions'] = y_pred\n",
        "final_results = final_results[['ID', 'Response', 'predictions']]"
      ],
      "metadata": {
        "id": "jWLzo1KEFM3X"
      },
      "execution_count": null,
      "outputs": []
    },
    {
      "cell_type": "code",
      "source": [
        "display(final_results.head(30))"
      ],
      "metadata": {
        "colab": {
          "base_uri": "https://localhost:8080/",
          "height": 990
        },
        "id": "owBBiCO-Fqvt",
        "outputId": "f6cd9f31-9ac4-4e0f-f439-9fecfa39cfe3"
      },
      "execution_count": null,
      "outputs": [
        {
          "output_type": "display_data",
          "data": {
            "text/html": [
              "<div>\n",
              "<style scoped>\n",
              "    .dataframe tbody tr th:only-of-type {\n",
              "        vertical-align: middle;\n",
              "    }\n",
              "\n",
              "    .dataframe tbody tr th {\n",
              "        vertical-align: top;\n",
              "    }\n",
              "\n",
              "    .dataframe thead th {\n",
              "        text-align: right;\n",
              "    }\n",
              "</style>\n",
              "<table border=\"1\" class=\"dataframe\">\n",
              "  <thead>\n",
              "    <tr style=\"text-align: right;\">\n",
              "      <th></th>\n",
              "      <th>ID</th>\n",
              "      <th>Response</th>\n",
              "      <th>predictions</th>\n",
              "    </tr>\n",
              "  </thead>\n",
              "  <tbody>\n",
              "    <tr>\n",
              "      <th>848</th>\n",
              "      <td>2895</td>\n",
              "      <td>0</td>\n",
              "      <td>0</td>\n",
              "    </tr>\n",
              "    <tr>\n",
              "      <th>1613</th>\n",
              "      <td>1764</td>\n",
              "      <td>0</td>\n",
              "      <td>0</td>\n",
              "    </tr>\n",
              "    <tr>\n",
              "      <th>1893</th>\n",
              "      <td>6892</td>\n",
              "      <td>0</td>\n",
              "      <td>0</td>\n",
              "    </tr>\n",
              "    <tr>\n",
              "      <th>2052</th>\n",
              "      <td>2591</td>\n",
              "      <td>0</td>\n",
              "      <td>0</td>\n",
              "    </tr>\n",
              "    <tr>\n",
              "      <th>732</th>\n",
              "      <td>9384</td>\n",
              "      <td>0</td>\n",
              "      <td>0</td>\n",
              "    </tr>\n",
              "    <tr>\n",
              "      <th>1495</th>\n",
              "      <td>10770</td>\n",
              "      <td>0</td>\n",
              "      <td>0</td>\n",
              "    </tr>\n",
              "    <tr>\n",
              "      <th>319</th>\n",
              "      <td>2863</td>\n",
              "      <td>0</td>\n",
              "      <td>0</td>\n",
              "    </tr>\n",
              "    <tr>\n",
              "      <th>88</th>\n",
              "      <td>8504</td>\n",
              "      <td>0</td>\n",
              "      <td>0</td>\n",
              "    </tr>\n",
              "    <tr>\n",
              "      <th>890</th>\n",
              "      <td>1928</td>\n",
              "      <td>0</td>\n",
              "      <td>0</td>\n",
              "    </tr>\n",
              "    <tr>\n",
              "      <th>1980</th>\n",
              "      <td>3032</td>\n",
              "      <td>0</td>\n",
              "      <td>0</td>\n",
              "    </tr>\n",
              "    <tr>\n",
              "      <th>298</th>\n",
              "      <td>7119</td>\n",
              "      <td>0</td>\n",
              "      <td>0</td>\n",
              "    </tr>\n",
              "    <tr>\n",
              "      <th>1634</th>\n",
              "      <td>10906</td>\n",
              "      <td>0</td>\n",
              "      <td>0</td>\n",
              "    </tr>\n",
              "    <tr>\n",
              "      <th>1843</th>\n",
              "      <td>3170</td>\n",
              "      <td>0</td>\n",
              "      <td>0</td>\n",
              "    </tr>\n",
              "    <tr>\n",
              "      <th>931</th>\n",
              "      <td>538</td>\n",
              "      <td>0</td>\n",
              "      <td>0</td>\n",
              "    </tr>\n",
              "    <tr>\n",
              "      <th>53</th>\n",
              "      <td>2225</td>\n",
              "      <td>1</td>\n",
              "      <td>1</td>\n",
              "    </tr>\n",
              "    <tr>\n",
              "      <th>1238</th>\n",
              "      <td>6918</td>\n",
              "      <td>0</td>\n",
              "      <td>0</td>\n",
              "    </tr>\n",
              "    <tr>\n",
              "      <th>778</th>\n",
              "      <td>2461</td>\n",
              "      <td>0</td>\n",
              "      <td>0</td>\n",
              "    </tr>\n",
              "    <tr>\n",
              "      <th>1029</th>\n",
              "      <td>8985</td>\n",
              "      <td>0</td>\n",
              "      <td>0</td>\n",
              "    </tr>\n",
              "    <tr>\n",
              "      <th>206</th>\n",
              "      <td>5176</td>\n",
              "      <td>0</td>\n",
              "      <td>0</td>\n",
              "    </tr>\n",
              "    <tr>\n",
              "      <th>1628</th>\n",
              "      <td>9986</td>\n",
              "      <td>1</td>\n",
              "      <td>0</td>\n",
              "    </tr>\n",
              "    <tr>\n",
              "      <th>1724</th>\n",
              "      <td>1381</td>\n",
              "      <td>1</td>\n",
              "      <td>0</td>\n",
              "    </tr>\n",
              "    <tr>\n",
              "      <th>335</th>\n",
              "      <td>10151</td>\n",
              "      <td>0</td>\n",
              "      <td>0</td>\n",
              "    </tr>\n",
              "    <tr>\n",
              "      <th>31</th>\n",
              "      <td>3033</td>\n",
              "      <td>0</td>\n",
              "      <td>0</td>\n",
              "    </tr>\n",
              "    <tr>\n",
              "      <th>2083</th>\n",
              "      <td>5396</td>\n",
              "      <td>0</td>\n",
              "      <td>0</td>\n",
              "    </tr>\n",
              "    <tr>\n",
              "      <th>1423</th>\n",
              "      <td>5229</td>\n",
              "      <td>0</td>\n",
              "      <td>0</td>\n",
              "    </tr>\n",
              "    <tr>\n",
              "      <th>974</th>\n",
              "      <td>9209</td>\n",
              "      <td>0</td>\n",
              "      <td>0</td>\n",
              "    </tr>\n",
              "    <tr>\n",
              "      <th>1595</th>\n",
              "      <td>1041</td>\n",
              "      <td>1</td>\n",
              "      <td>0</td>\n",
              "    </tr>\n",
              "    <tr>\n",
              "      <th>1535</th>\n",
              "      <td>9771</td>\n",
              "      <td>0</td>\n",
              "      <td>0</td>\n",
              "    </tr>\n",
              "    <tr>\n",
              "      <th>1552</th>\n",
              "      <td>8091</td>\n",
              "      <td>0</td>\n",
              "      <td>0</td>\n",
              "    </tr>\n",
              "    <tr>\n",
              "      <th>633</th>\n",
              "      <td>4376</td>\n",
              "      <td>1</td>\n",
              "      <td>0</td>\n",
              "    </tr>\n",
              "  </tbody>\n",
              "</table>\n",
              "</div>"
            ],
            "text/plain": [
              "         ID  Response  predictions\n",
              "848    2895         0            0\n",
              "1613   1764         0            0\n",
              "1893   6892         0            0\n",
              "2052   2591         0            0\n",
              "732    9384         0            0\n",
              "1495  10770         0            0\n",
              "319    2863         0            0\n",
              "88     8504         0            0\n",
              "890    1928         0            0\n",
              "1980   3032         0            0\n",
              "298    7119         0            0\n",
              "1634  10906         0            0\n",
              "1843   3170         0            0\n",
              "931     538         0            0\n",
              "53     2225         1            1\n",
              "1238   6918         0            0\n",
              "778    2461         0            0\n",
              "1029   8985         0            0\n",
              "206    5176         0            0\n",
              "1628   9986         1            0\n",
              "1724   1381         1            0\n",
              "335   10151         0            0\n",
              "31     3033         0            0\n",
              "2083   5396         0            0\n",
              "1423   5229         0            0\n",
              "974    9209         0            0\n",
              "1595   1041         1            0\n",
              "1535   9771         0            0\n",
              "1552   8091         0            0\n",
              "633    4376         1            0"
            ]
          },
          "metadata": {}
        }
      ]
    },
    {
      "cell_type": "markdown",
      "source": [
        "We can see that most of the predicted responses are correct.\n",
        "\n",
        "Few are false predictions as well.\n",
        "\n",
        "They can be due to multicollinearity between variables or due to irrelevant / unwanted data"
      ],
      "metadata": {
        "id": "4p9lfDet0chJ"
      }
    }
  ]
}